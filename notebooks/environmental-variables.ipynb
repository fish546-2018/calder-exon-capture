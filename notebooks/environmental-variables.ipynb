{
 "cells": [
  {
   "cell_type": "markdown",
   "metadata": {},
   "source": [
    "# Accessing PATH (Environmental Variables)\n",
    "\n",
    "Environmental variables are directories which can be accessed through the command line from anywhere without using absolute paths.\n",
    "\n",
    "---\n",
    "\n",
    "## Mac OSX\n",
    "Adapted from: https://www.architectryan.com/2012/10/02/add-to-the-path-on-mac-os-x-mountain-lion/\n",
    "\n",
    "#### Access and Editing\n",
    "1. Open up Terminal.\n",
    "2. Run the following command: `sudo nano /etc/paths`\n",
    "3. Enter your password, when prompted.\n",
    "4. Add, delete, or change any of the paths.\n",
    "5. Hit control-x to quit.\n",
    "6. Enter “Y” to save the modified buffer.\n",
    "\n",
    "#### Current Environmental Variables in Calder Atta 2016 MacBook Pro\n",
    "\n",
    "    /usr/local/bin\n",
    "    /usr/bin\n",
    "    /bin\n",
    "    /usr/sbin\n",
    "    /sbin\n",
    "    /usr/local/bin/trinityrnaseq-Trinity-v2.8.4\n",
    "\n",
    "Note: I have had issues adding additional paths with this method. The new paths are saved but don't appear to work. To get around this, I have simply copied needed programs into one of the default directories. These include 'blastn' and 'makeblastdb', which are in /usr/local/bin. I've also moved the entire Trinity home directory (trinityrnaseq-Trinity-v2.8.4) here. The original home directories for these programs are in /Applications/biotools/.\n",
    "\n",
    "---\n",
    "\n",
    "## Windows\n",
    "Adapted from: https://www.computerhope.com/issues/ch000549.htm\n",
    "#### Access and Editing (Windows 8 & 10)\n",
    "1. On the desktop, right click 'This PC', select 'Properties'. The 'System' window will come up.\n",
    "2. Click 'Advanced System Settings'. The 'System Properties' window will pop up.\n",
    "3. In the 'Advanced' tab, click 'Environmental Variables'. The 'Environmental Variables' window will pop up.\n",
    "4. Select the variable you would like to edit (use 'Path' in most cases), and click 'Edit...'.\n",
    "5. Add, delete, or change any of the paths.\n",
    "6. To exit, click 'OK' 3 times and close the 'System' window.\n",
    "\n",
    "#### Current Environmental Variables in Calder Atta SAFS Office\n",
    "\n",
    "    %USERPROFILE%\\AppData\\Local\\Microsoft\\WindowsApps\n",
    "    C:\\Program Files\\biotools\\cutadapt-master\n",
    "    C:\\Program Files\\biotools\\FastQC\n",
    "    C:\\Program Files\\biotools\\TrimFGalore-0.5.0\n",
    "    C:\\Program Files\\biotools\\trinityrnaseq-Trinity-v2.8.4\n",
    "    C:\\Program Files\\CMake\\bin\n",
    "    C:\\Program Files\\NCBI\\blast-2.7.1+\\bin"
   ]
  },
  {
   "cell_type": "code",
   "execution_count": null,
   "metadata": {},
   "outputs": [],
   "source": []
  }
 ],
 "metadata": {
  "kernelspec": {
   "display_name": "Python 3",
   "language": "python",
   "name": "python3"
  },
  "language_info": {
   "codemirror_mode": {
    "name": "ipython",
    "version": 3
   },
   "file_extension": ".py",
   "mimetype": "text/x-python",
   "name": "python",
   "nbconvert_exporter": "python",
   "pygments_lexer": "ipython3",
   "version": "3.7.0"
  }
 },
 "nbformat": 4,
 "nbformat_minor": 2
}
