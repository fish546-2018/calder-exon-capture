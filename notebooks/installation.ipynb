{
 "cells": [
  {
   "cell_type": "markdown",
   "metadata": {},
   "source": [
    "# Software Installation\n",
    "\n",
    "---\n",
    "Note: I've already downloaded several programs (FastQC, Cutadapt, TrimGalore), but I've copied code for the downloads here.\n",
    "\n",
    "#### Shortcuts"
   ]
  },
  {
   "cell_type": "code",
   "execution_count": 5,
   "metadata": {},
   "outputs": [],
   "source": [
    "project = \"/Users/calderatta/Desktop/FISH546_Bioinformatics/project/\""
   ]
  },
  {
   "cell_type": "code",
   "execution_count": 6,
   "metadata": {},
   "outputs": [],
   "source": [
    "biotools = \"/Applications/bio-tools/\""
   ]
  },
  {
   "cell_type": "markdown",
   "metadata": {},
   "source": [
    "### FastQC\n",
    "#### Istallation for FastQC v0.11.8\n",
    "First check that java is in stalled and at least ver 1.8."
   ]
  },
  {
   "cell_type": "code",
   "execution_count": 1,
   "metadata": {},
   "outputs": [
    {
     "name": "stdout",
     "output_type": "stream",
     "text": [
      "java version \"1.8.0_131\"\r\n",
      "Java(TM) SE Runtime Environment (build 1.8.0_131-b11)\r\n",
      "Java HotSpot(TM) 64-Bit Server VM (build 25.131-b11, mixed mode)\r\n"
     ]
    }
   ],
   "source": [
    "!java -version"
   ]
  },
  {
   "cell_type": "markdown",
   "metadata": {},
   "source": [
    "#### On Mac (DMG file for GUI application)\n",
    "Link: https://www.bioinformatics.babraham.ac.uk/projects/fastqc/fastqc_v0.11.8.dmg\n",
    "\n",
    "Install from .dmg file."
   ]
  },
  {
   "cell_type": "code",
   "execution_count": null,
   "metadata": {},
   "outputs": [],
   "source": [
    "!curl https://www.bioinformatics.babraham.ac.uk/projects/fastqc/fastqc_v0.11.8.dmg > {biotools}fastqc_v0.11.8.dmg"
   ]
  },
  {
   "cell_type": "markdown",
   "metadata": {},
   "source": [
    "#### On Windows or Mac (Zip file to run in Bash; Use this version for creating a pipeline)\n",
    "Link: https://www.bioinformatics.babraham.ac.uk/projects/fastqc/fastqc_v0.11.8.zip"
   ]
  },
  {
   "cell_type": "code",
   "execution_count": null,
   "metadata": {},
   "outputs": [],
   "source": [
    "!curl https://www.bioinformatics.babraham.ac.uk/projects/fastqc/fastqc_v0.11.8.zip > {biotools}fastqc_v0.11.8.zip"
   ]
  },
  {
   "cell_type": "code",
   "execution_count": null,
   "metadata": {},
   "outputs": [],
   "source": [
    "!unzip {biotools}fastqc_v0.11.8.zip"
   ]
  },
  {
   "cell_type": "markdown",
   "metadata": {},
   "source": [
    "Note: I already had a working version that I downloaded straight from Safari."
   ]
  },
  {
   "cell_type": "code",
   "execution_count": 7,
   "metadata": {},
   "outputs": [
    {
     "name": "stdout",
     "output_type": "stream",
     "text": [
      "\r\n",
      "            FastQC - A high throughput sequence QC analysis tool\r\n",
      "\r\n",
      "SYNOPSIS\r\n",
      "\r\n",
      "\tfastqc seqfile1 seqfile2 .. seqfileN\r\n",
      "\r\n",
      "    fastqc [-o output dir] [--(no)extract] [-f fastq|bam|sam] \r\n",
      "           [-c contaminant file] seqfile1 .. seqfileN\r\n",
      "\r\n",
      "DESCRIPTION\r\n",
      "\r\n",
      "    FastQC reads a set of sequence files and produces from each one a quality\r\n",
      "    control report consisting of a number of different modules, each one of \r\n",
      "    which will help to identify a different potential type of problem in your\r\n",
      "    data.\r\n",
      "    \r\n",
      "    If no files to process are specified on the command line then the program\r\n",
      "    will start as an interactive graphical application.  If files are provided\r\n",
      "    on the command line then the program will run with no user interaction\r\n",
      "    required.  In this mode it is suitable for inclusion into a standardised\r\n",
      "    analysis pipeline.\r\n",
      "    \r\n",
      "    The options for the program as as follows:\r\n",
      "    \r\n",
      "    -h --help       Print this help file and exit\r\n",
      "    \r\n",
      "    -v --version    Print the version of the program and exit\r\n",
      "    \r\n",
      "    -o --outdir     Create all output files in the specified output directory.\r\n",
      "                    Please note that this directory must exist as the program\r\n",
      "                    will not create it.  If this option is not set then the \r\n",
      "                    output file for each sequence file is created in the same\r\n",
      "                    directory as the sequence file which was processed.\r\n",
      "                    \r\n",
      "    --casava        Files come from raw casava output. Files in the same sample\r\n",
      "                    group (differing only by the group number) will be analysed\r\n",
      "                    as a set rather than individually. Sequences with the filter\r\n",
      "                    flag set in the header will be excluded from the analysis.\r\n",
      "                    Files must have the same names given to them by casava\r\n",
      "                    (including being gzipped and ending with .gz) otherwise they\r\n",
      "                    won't be grouped together correctly.\r\n",
      "                    \r\n",
      "    --nano          Files come from nanopore sequences and are in fast5 format. In\r\n",
      "                    this mode you can pass in directories to process and the program\r\n",
      "                    will take in all fast5 files within those directories and produce\r\n",
      "                    a single output file from the sequences found in all files.                    \r\n",
      "                    \r\n",
      "    --nofilter      If running with --casava then don't remove read flagged by\r\n",
      "                    casava as poor quality when performing the QC analysis.\r\n",
      "                   \r\n",
      "    --extract       If set then the zipped output file will be uncompressed in\r\n",
      "                    the same directory after it has been created.  By default\r\n",
      "                    this option will be set if fastqc is run in non-interactive\r\n",
      "                    mode.\r\n",
      "                    \r\n",
      "    -j --java       Provides the full path to the java binary you want to use to\r\n",
      "                    launch fastqc. If not supplied then java is assumed to be in\r\n",
      "                    your path.\r\n",
      "                   \r\n",
      "    --noextract     Do not uncompress the output file after creating it.  You\r\n",
      "                    should set this option if you do not wish to uncompress\r\n",
      "                    the output when running in non-interactive mode.\r\n",
      "                    \r\n",
      "    --nogroup       Disable grouping of bases for reads >50bp. All reports will\r\n",
      "                    show data for every base in the read.  WARNING: Using this\r\n",
      "                    option will cause fastqc to crash and burn if you use it on\r\n",
      "                    really long reads, and your plots may end up a ridiculous size.\r\n",
      "                    You have been warned!\r\n",
      "                    \r\n",
      "    --min_length    Sets an artificial lower limit on the length of the sequence\r\n",
      "                    to be shown in the report.  As long as you set this to a value\r\n",
      "                    greater or equal to your longest read length then this will be\r\n",
      "                    the sequence length used to create your read groups.  This can\r\n",
      "                    be useful for making directly comaparable statistics from \r\n",
      "                    datasets with somewhat variable read lengths.\r\n",
      "                    \r\n",
      "    -f --format     Bypasses the normal sequence file format detection and\r\n",
      "                    forces the program to use the specified format.  Valid\r\n",
      "                    formats are bam,sam,bam_mapped,sam_mapped and fastq\r\n",
      "                    \r\n",
      "    -t --threads    Specifies the number of files which can be processed\r\n",
      "                    simultaneously.  Each thread will be allocated 250MB of\r\n",
      "                    memory so you shouldn't run more threads than your\r\n",
      "                    available memory will cope with, and not more than\r\n",
      "                    6 threads on a 32 bit machine\r\n",
      "                  \r\n",
      "    -c              Specifies a non-default file which contains the list of\r\n",
      "    --contaminants  contaminants to screen overrepresented sequences against.\r\n",
      "                    The file must contain sets of named contaminants in the\r\n",
      "                    form name[tab]sequence.  Lines prefixed with a hash will\r\n",
      "                    be ignored.\r\n",
      "\r\n",
      "    -a              Specifies a non-default file which contains the list of\r\n",
      "    --adapters      adapter sequences which will be explicity searched against\r\n",
      "                    the library. The file must contain sets of named adapters\r\n",
      "                    in the form name[tab]sequence.  Lines prefixed with a hash\r\n",
      "                    will be ignored.\r\n",
      "                    \r\n",
      "    -l              Specifies a non-default file which contains a set of criteria\r\n",
      "    --limits        which will be used to determine the warn/error limits for the\r\n",
      "                    various modules.  This file can also be used to selectively \r\n",
      "                    remove some modules from the output all together.  The format\r\n",
      "                    needs to mirror the default limits.txt file found in the\r\n",
      "                    Configuration folder.\r\n",
      "                    \r\n",
      "   -k --kmers       Specifies the length of Kmer to look for in the Kmer content\r\n",
      "                    module. Specified Kmer length must be between 2 and 10. Default\r\n",
      "                    length is 7 if not specified.\r\n",
      "                    \r\n",
      "   -q --quiet       Supress all progress messages on stdout and only report errors.\r\n",
      "   \r\n",
      "   -d --dir         Selects a directory to be used for temporary files written when\r\n",
      "                    generating report images. Defaults to system temp directory if\r\n",
      "                    not specified.\r\n",
      "                    \r\n",
      "BUGS\r\n",
      "\r\n",
      "    Any bugs in fastqc should be reported either to simon.andrews@babraham.ac.uk\r\n",
      "    or in www.bioinformatics.babraham.ac.uk/bugzilla/\r\n",
      "                   \r\n",
      "    \r\n"
     ]
    }
   ],
   "source": [
    "!{biotools}FastQC/fastqc -h"
   ]
  },
  {
   "cell_type": "markdown",
   "metadata": {},
   "source": [
    "### Cutadapt (Martin 2011) - finds and removes adapters off sequences\n",
    "Cutadapt finds and removes adapter sequences, primers, poly-A tails and other\n",
    "types of unwanted sequence from your high-throughput sequencing reads.\n",
    "#### Istallation for Cutadapt\n",
    "Link: https://github.com/marcelm/cutadapt"
   ]
  },
  {
   "cell_type": "code",
   "execution_count": null,
   "metadata": {},
   "outputs": [],
   "source": [
    "!curl -O https://github.com/marcelm/cutadapt/archive/master.zip > {biotools}cutadapt-master.zip"
   ]
  },
  {
   "cell_type": "code",
   "execution_count": 11,
   "metadata": {},
   "outputs": [
    {
     "name": "stdout",
     "output_type": "stream",
     "text": [
      "\u001b[33mRetrying (Retry(total=4, connect=None, read=None, redirect=None, status=None)) after connection broken by 'NewConnectionError('<pip._vendor.urllib3.connection.VerifiedHTTPSConnection object at 0x102cdfbe0>: Failed to establish a new connection: [Errno 8] nodename nor servname provided, or not known')': /simple/cutadapt/\u001b[0m\n",
      "\u001b[33mRetrying (Retry(total=3, connect=None, read=None, redirect=None, status=None)) after connection broken by 'NewConnectionError('<pip._vendor.urllib3.connection.VerifiedHTTPSConnection object at 0x102ce7630>: Failed to establish a new connection: [Errno 8] nodename nor servname provided, or not known')': /simple/cutadapt/\u001b[0m\n",
      "\u001b[33mRetrying (Retry(total=2, connect=None, read=None, redirect=None, status=None)) after connection broken by 'NewConnectionError('<pip._vendor.urllib3.connection.VerifiedHTTPSConnection object at 0x102ce7438>: Failed to establish a new connection: [Errno 8] nodename nor servname provided, or not known')': /simple/cutadapt/\u001b[0m\n",
      "\u001b[33mRetrying (Retry(total=1, connect=None, read=None, redirect=None, status=None)) after connection broken by 'NewConnectionError('<pip._vendor.urllib3.connection.VerifiedHTTPSConnection object at 0x102ce7c50>: Failed to establish a new connection: [Errno 8] nodename nor servname provided, or not known')': /simple/cutadapt/\u001b[0m\n",
      "\u001b[33mRetrying (Retry(total=0, connect=None, read=None, redirect=None, status=None)) after connection broken by 'NewConnectionError('<pip._vendor.urllib3.connection.VerifiedHTTPSConnection object at 0x102cff160>: Failed to establish a new connection: [Errno 8] nodename nor servname provided, or not known')': /simple/cutadapt/\u001b[0m\n",
      "Requirement already up-to-date: cutadapt in /Users/calderatta/.local/lib/python3.7/site-packages (1.18)\n",
      "Requirement not upgraded as not directly required: xopen>=0.3.2 in /Users/calderatta/.local/lib/python3.7/site-packages (from cutadapt) (0.3.5)\n",
      "\u001b[31mtwisted 18.7.0 requires PyHamcrest>=1.9.0, which is not installed.\u001b[0m\n",
      "\u001b[33mYou are using pip version 10.0.1, however version 18.1 is available.\n",
      "You should consider upgrading via the 'pip install --upgrade pip' command.\u001b[0m\n"
     ]
    }
   ],
   "source": [
    "!pip install --user --upgrade cutadapt"
   ]
  },
  {
   "cell_type": "markdown",
   "metadata": {},
   "source": [
    "I moved the cutadapt program from /Users/calderatta/.local/bin to {biotools}cutadapt-master."
   ]
  },
  {
   "cell_type": "markdown",
   "metadata": {},
   "source": [
    "### Trim-Galore - wrapper for Cutadapt and FastQC\n",
    "#### Istallation for Trim-Galore v0.5.0\n",
    "\n",
    "Link: https://github.com/FelixKrueger/TrimGalore/archive/0.5.0.zip"
   ]
  },
  {
   "cell_type": "code",
   "execution_count": null,
   "metadata": {},
   "outputs": [],
   "source": [
    "!curl -O https://github.com/FelixKrueger/TrimGalore/archive/0.5.0.zip > {biotools}TrimGalore-0.5.0.zip"
   ]
  },
  {
   "cell_type": "code",
   "execution_count": null,
   "metadata": {},
   "outputs": [],
   "source": [
    "!unzip {biotools}TrimGalore-0.5.0.zip -d {biotools}TrimGalore-0.5.0"
   ]
  },
  {
   "cell_type": "code",
   "execution_count": 12,
   "metadata": {},
   "outputs": [
    {
     "name": "stdout",
     "output_type": "stream",
     "text": [
      "shasum: /Applications/bio-tools/TrimGalore-0.5.0.zip: \r\n"
     ]
    }
   ],
   "source": [
    "!shasum {biotools}TrimGalore-0.5.0.zip"
   ]
  },
  {
   "cell_type": "markdown",
   "metadata": {},
   "source": [
    "Note: For some reason this didn't work. It turned into a 127 byte .zip file (should be 25.9 MB) that when unzipped turned into a .cpgz file, which unzips back into a .zip (zip cpgz loop). We can check this using md5 or sha1, but I'm not sure how to run on original file, and I tried downloading it using Safari and that seemed to work."
   ]
  },
  {
   "cell_type": "code",
   "execution_count": 10,
   "metadata": {},
   "outputs": [
    {
     "name": "stdout",
     "output_type": "stream",
     "text": [
      "1.18\r\n"
     ]
    }
   ],
   "source": [
    "!{biotools}cutadapt-master/cutadapt --version"
   ]
  },
  {
   "cell_type": "markdown",
   "metadata": {},
   "source": [
    "### sickle and seqtk (Not used in pipeline)"
   ]
  },
  {
   "cell_type": "code",
   "execution_count": 13,
   "metadata": {},
   "outputs": [
    {
     "name": "stdout",
     "output_type": "stream",
     "text": [
      "\u001b[33mWarning:\u001b[0m seqtk 1.3 is already installed and up-to-date\r\n",
      "To reinstall 1.3, run `brew reinstall seqtk`\r\n"
     ]
    }
   ],
   "source": [
    "!brew install seqtk"
   ]
  },
  {
   "cell_type": "code",
   "execution_count": 14,
   "metadata": {},
   "outputs": [
    {
     "name": "stdout",
     "output_type": "stream",
     "text": [
      "\u001b[33mWarning:\u001b[0m sickle 1.33 is already installed and up-to-date\r\n",
      "To reinstall 1.33, run `brew reinstall sickle`\r\n"
     ]
    }
   ],
   "source": [
    "!brew install sickle"
   ]
  },
  {
   "cell_type": "code",
   "execution_count": 15,
   "metadata": {},
   "outputs": [
    {
     "name": "stdout",
     "output_type": "stream",
     "text": [
      "\r\n",
      "FastQ records kept: 203121\r\n",
      "FastQ records discarded: 1234\r\n",
      "\r\n"
     ]
    }
   ],
   "source": [
    "!sickle se -f /Users/calderatta/Desktop/FISH\\ 546\\ -\\ Bioinformatics/week-3/untreated1_chr4.fq.rtf -t sanger -o /Users/calderatta/Desktop/FISH\\ 546\\ -\\ Bioinformatics/week-3/untreated1_chr4_sickle.fq"
   ]
  },
  {
   "cell_type": "code",
   "execution_count": 16,
   "metadata": {},
   "outputs": [
    {
     "name": "stdout",
     "output_type": "stream",
     "text": [
      "@SRR031729.3941844\\\r\n",
      "GGACAACCTAGCCAGGAAAGGGGCAGGGAACCCTCTAATTGGGCCCGAACCATTCTGTGGTGTTGGTCACCACAG\\\r\n",
      "+\r\n",
      "BC?BABABBA@BCBAC>A<4+?BA><B=@?AB@B@A>?BB=B.?7?>1;<??=@A8?8=B8B>?B@46==8863<\\\r\n",
      "@SRR031728.3674563\\\r\n",
      "CAACAACAGCCCAGGAAATGAGCTAGCGGACAACCTAGCCAGGAAAGGGGCAGGGAACCCTCTAATTGGGCCCGA\\\r\n",
      "+\r\n",
      "BBB>B@?B=A4?)ABBABA:?B??CBB@B@?BB;?9A>A4AA=??>?:A=<?7?=??1<67445<55?6<667??\\\r\n",
      "@SRR031729.8532600\\\r\n",
      "CCCAATTAGAGGATTCTCTGCCCCTTTCCTGGCTAGGTTGTCCGGTAGCTCATTTCCCGGGATGTTGTTGTGTCC\\\r\n",
      "+\r\n",
      "BBBBACCBCBCBCBBBABBBBBBBBBBBBA@BBA4(:3BB=CAA;8?=@??0?B=B@<+7@1<>2><3A38'78<\\\r\n",
      "@SRR031729.2779333\\\r\n",
      "GTTCTCTGCCCCTTTCCTGGCTAGGTTGTCCGCTAGCTCATTTCCCGAGATG\r\n",
      "+\r\n",
      "B??AAA@B@AA@@?@AA=A@?=?AB7;@8??:<66?7<5044:6?=?6@66;\r\n",
      "@SRR031728.2826481\\\r\n",
      "TTCCTGGCTAGGTTGTCCGCTAGCTCATTTCCCGGGCTGTTGTTGTGTCCCGGGACACACCTTATTGTGAGTTTG\\\r\n",
      "+\r\n",
      "B>CBBCCCB>CC@BBABBBB?;?BAB<ABABBCBCCCBB<@B?=8;9;BCBACB9>>@0AB@=5:??6B=B<==?\\\r\n"
     ]
    }
   ],
   "source": [
    "!head -n 20 /Users/calderatta/Desktop/FISH\\ 546\\ -\\ Bioinformatics/week-3/untreated1_chr4_sickle.fq"
   ]
  },
  {
   "cell_type": "markdown",
   "metadata": {},
   "source": []
  },
  {
   "cell_type": "code",
   "execution_count": 1,
   "metadata": {},
   "outputs": [
    {
     "name": "stdout",
     "output_type": "stream",
     "text": [
      "Updating Homebrew...\n",
      "\u001b[34m==>\u001b[0m \u001b[1mAuto-updated Homebrew!\u001b[0m\n",
      "Updated 2 taps (homebrew/core and homebrew/services).\n",
      "\u001b[34m==>\u001b[0m \u001b[1mNew Formulae\u001b[0m\n",
      "cgit                i386-elf-gcc        resin-cli           tealdeer\n",
      "create-dmg          inadyn              ruby@2.4            um\n",
      "eg-examples         libvmaf             shellz\n",
      "fluxctl             node@10             sonobuoy\n",
      "i386-elf-binutils   nu-smv              sourcedocs\n",
      "\u001b[34m==>\u001b[0m \u001b[1mUpdated Formulae\u001b[0m\n",
      "abyss                                    json-fortran\n",
      "advancecomp                              kakoune\n",
      "advancemame                              kallisto\n",
      "agda                                     khal\n",
      "aha                                      kotlin\n",
      "algernon                                 kubernetes-cli\n",
      "amazon-ecs-cli                           kustomize\n",
      "ammonite-repl                            lastpass-cli\n",
      "amqp-cpp                                 latexdiff\n",
      "angular-cli                              libbi\n",
      "annie                                    libcerf\n",
      "ansible                                  libgcrypt\n",
      "antlr                                    libmagic\n",
      "antlr@2                                  libmatio\n",
      "apache-arrow                             libopendkim\n",
      "apache-arrow-glib                        librsvg\n",
      "apache-flink                             libsigc++\n",
      "app-engine-java                          libsoup\n",
      "arangodb                                 libvoikko\n",
      "ark                                      logtalk\n",
      "armadillo                                lynis\n",
      "asciidoc                                 mapserver\n",
      "aspectj                                  mas\n",
      "aubio                                    math-comp\n",
      "autopep8                                 mdcat\n",
      "awscli                                   meson\n",
      "azure-cli                                micronaut\n",
      "bat                                      mill\n",
      "beast                                    minizinc\n",
      "binutils                                 mkvtoolnix\n",
      "bison                                    monero\n",
      "bluepill                                 mysql@5.5\n",
      "bmake                                    mysql@5.6\n",
      "bnd                                      mysql@5.7\n",
      "brotli                                   nativefier\n",
      "bup                                      nats-streaming-server\n",
      "bzt                                      nco\n",
      "c-ares                                   ncview\n",
      "caf                                      netcdf\n",
      "caffe                                    nifi\n",
      "cairo                                    nnn\n",
      "cargo-completion                         node\n",
      "carthage                                 node-build\n",
      "cheat                                    nsd\n",
      "checkbashisms                            nss\n",
      "circleci                                 numpy\n",
      "citus                                    octave\n",
      "cmdshelf                                 opam\n",
      "collectd                                 open-mpi\n",
      "composer                                 openapi-generator\n",
      "container-diff                           opencascade\n",
      "coq                                      opencoarrays\n",
      "crowdin                                  openssh\n",
      "curl                                     packer\n",
      "dartsim                                  pandoc-citeproc\n",
      "ddgr                                     parallel\n",
      "dependency-check                         passenger\n",
      "diff-pdf                                 payara\n",
      "diffoscope                               pcl\n",
      "dlib                                     pdal\n",
      "docker-compose                           pdfpc\n",
      "docker-compose-completion                pdftoedn\n",
      "docker-machine-driver-xhyve              pdftoipe\n",
      "doitlive                                 percona-toolkit\n",
      "duplicity                                pgformatter\n",
      "dynare                                   php-cs-fixer\n",
      "ejabberd                                 phpunit\n",
      "elixir                                   planck\n",
      "embulk                                   plantuml\n",
      "emscripten                               platformio\n",
      "erlang@18                                poppler\n",
      "eslint                                   posh\n",
      "evince                                   presto\n",
      "fd                                       prips\n",
      "feh                                      pulumi\n",
      "field3d                                  pumba\n",
      "file-formula                             pwntools\n",
      "flake8                                   pyenv\n",
      "flann                                    ruby-build\n",
      "flyway                                   rust\n",
      "fn                                       safe\n",
      "fonttools                                scipy\n",
      "fork-cleaner                             sdl2_image\n",
      "freetds@0.91                             sdl2_mixer\n",
      "frugal                                   shibboleth-sp\n",
      "fselect                                  shogun\n",
      "futhark                                  skaffold\n",
      "gandi.cli                                skafos\n",
      "gcc@6                                    smimesign\n",
      "gdbm                                     sratoolkit\n",
      "gecode                                   stubby\n",
      "gedit                                    tbb\n",
      "getdns                                   tepl\n",
      "ghc                                      terraform\n",
      "git-annex                                terraform-docs\n",
      "gitlab-runner                            tesseract\n",
      "gjs                                      tika\n",
      "glibmm                                   tippecanoe\n",
      "gmime                                    topgrade\n",
      "gmsh                                     tox\n",
      "gmt                                      treefrog\n",
      "gmt@4                                    typescript\n",
      "gnome-latex                              ucloud\n",
      "gnu-units                                unbound\n",
      "gnuplot                                  uriparser\n",
      "go-statik                                valgrind\n",
      "goaccess                                 vapoursynth\n",
      "goreleaser                               varnish\n",
      "gpa                                      vault\n",
      "grafana                                  vim\n",
      "groovy                                   vips\n",
      "gucharmap                                vte3\n",
      "hadolint                                 vtk\n",
      "harfbuzz                                 wabt\n",
      "hbase                                    wallpaper\n",
      "hdf5                                     watchman\n",
      "hive                                     webpack\n",
      "homebank                                 when\n",
      "httpd                                    whois\n",
      "hub                                      wireguard-go\n",
      "hugo                                     wireguard-tools\n",
      "i2pd                                     xmake\n",
      "idris                                    xml-tooling-c\n",
      "imagemagick                              xmrig\n",
      "imagemagick@6                            yarn\n",
      "imageworsener                            youtube-dl\n",
      "imapfilter                               yq\n",
      "iproute2mac                              z3\n",
      "ipython                                  zanata-client\n",
      "jbake                                    zookeeper\n",
      "jenkins                                  zsh-completions\n",
      "joplin                                   zstd\n",
      "\u001b[34m==>\u001b[0m \u001b[1mRenamed Formulae\u001b[0m\n",
      "gtksourceview@4 -> gtksourceview4\n",
      "\u001b[34m==>\u001b[0m \u001b[1mDeleted Formulae\u001b[0m\n",
      "corebird     heroku       pxz          ruby@2.2     taylor       tcptrack\n",
      "\n",
      "\u001b[31mError:\u001b[0m No available formula with the name \"nohup\" \n",
      "\u001b[34m==>\u001b[0m \u001b[1mSearching for a previously deleted formula (in the last month)...\u001b[0m\n",
      "\u001b[33mWarning:\u001b[0m homebrew/core is shallow clone. To get complete history run:\n",
      "  git -C \"$(brew --repo homebrew/core)\" fetch --unshallow\n",
      "\n",
      "\u001b[31mError:\u001b[0m No previously deleted formula found.\n",
      "\u001b[34m==>\u001b[0m \u001b[1mSearching for similarly named formulae...\u001b[0m\n",
      "\u001b[31mError:\u001b[0m No similarly named formulae found.\n",
      "\u001b[34m==>\u001b[0m \u001b[1mSearching taps...\u001b[0m\n",
      "\u001b[34m==>\u001b[0m \u001b[1mSearching taps on GitHub...\u001b[0m\n",
      "\u001b[31mError:\u001b[0m No formulae found in taps.\n"
     ]
    }
   ],
   "source": [
    "!brew install nohup"
   ]
  },
  {
   "cell_type": "code",
   "execution_count": 2,
   "metadata": {},
   "outputs": [
    {
     "name": "stdout",
     "output_type": "stream",
     "text": [
      "\u001b[32m==>\u001b[0m \u001b[1mInstalling dependencies for tmux: \u001b[32mopenssl\u001b[39m and \u001b[32mlibevent\u001b[39m\u001b[0m\n",
      "\u001b[32m==>\u001b[0m \u001b[1mInstalling tmux dependency: \u001b[32mopenssl\u001b[39m\u001b[0m\n",
      "\u001b[34m==>\u001b[0m \u001b[1mDownloading https://homebrew.bintray.com/bottles/openssl-1.0.2p.high_sierra.\u001b[0m\n",
      "######################################################################## 100.0%\n",
      "\u001b[34m==>\u001b[0m \u001b[1mPouring openssl-1.0.2p.high_sierra.bottle.tar.gz\u001b[0m\n",
      "\u001b[34m==>\u001b[0m \u001b[1mCaveats\u001b[0m\n",
      "A CA file has been bootstrapped using certificates from the SystemRoots\n",
      "keychain. To add additional certificates (e.g. the certificates added in\n",
      "the System keychain), place .pem files in\n",
      "  /usr/local/etc/openssl/certs\n",
      "\n",
      "and run\n",
      "  /usr/local/opt/openssl/bin/c_rehash\n",
      "\n",
      "openssl is keg-only, which means it was not symlinked into /usr/local,\n",
      "because Apple has deprecated use of OpenSSL in favor of its own TLS and crypto libraries.\n",
      "\n",
      "If you need to have openssl first in your PATH run:\n",
      "  echo 'export PATH=\"/usr/local/opt/openssl/bin:$PATH\"' >> ~/.bash_profile\n",
      "\n",
      "For compilers to find openssl you may need to set:\n",
      "  export LDFLAGS=\"-L/usr/local/opt/openssl/lib\"\n",
      "  export CPPFLAGS=\"-I/usr/local/opt/openssl/include\"\n",
      "\n",
      "\u001b[34m==>\u001b[0m \u001b[1mSummary\u001b[0m\n",
      "🍺  /usr/local/Cellar/openssl/1.0.2p: 1,793 files, 12.3MB\n",
      "\u001b[32m==>\u001b[0m \u001b[1mInstalling tmux dependency: \u001b[32mlibevent\u001b[39m\u001b[0m\n",
      "\u001b[34m==>\u001b[0m \u001b[1mDownloading https://homebrew.bintray.com/bottles/libevent-2.1.8.high_sierra.\u001b[0m\n",
      "######################################################################## 100.0%\n",
      "\u001b[34m==>\u001b[0m \u001b[1mPouring libevent-2.1.8.high_sierra.bottle.tar.gz\u001b[0m\n",
      "🍺  /usr/local/Cellar/libevent/2.1.8: 847 files, 2.2MB\n",
      "\u001b[32m==>\u001b[0m \u001b[1mInstalling \u001b[32mtmux\u001b[39m\u001b[0m\n",
      "\u001b[34m==>\u001b[0m \u001b[1mDownloading https://homebrew.bintray.com/bottles/tmux-2.8.high_sierra.bottle\u001b[0m\n",
      "######################################################################## 100.0%\n",
      "\u001b[34m==>\u001b[0m \u001b[1mPouring tmux-2.8.high_sierra.bottle.tar.gz\u001b[0m\n",
      "\u001b[34m==>\u001b[0m \u001b[1mCaveats\u001b[0m\n",
      "Example configuration has been installed to:\n",
      "  /usr/local/opt/tmux/share/tmux\n",
      "\n",
      "Bash completion has been installed to:\n",
      "  /usr/local/etc/bash_completion.d\n",
      "\u001b[34m==>\u001b[0m \u001b[1mSummary\u001b[0m\n",
      "🍺  /usr/local/Cellar/tmux/2.8: 10 files, 709.5KB\n",
      "\u001b[32m==>\u001b[0m \u001b[1mCaveats\u001b[0m\n",
      "\u001b[34m==>\u001b[0m \u001b[1mopenssl\u001b[0m\n",
      "A CA file has been bootstrapped using certificates from the SystemRoots\n",
      "keychain. To add additional certificates (e.g. the certificates added in\n",
      "the System keychain), place .pem files in\n",
      "  /usr/local/etc/openssl/certs\n",
      "\n",
      "and run\n",
      "  /usr/local/opt/openssl/bin/c_rehash\n",
      "\n",
      "openssl is keg-only, which means it was not symlinked into /usr/local,\n",
      "because Apple has deprecated use of OpenSSL in favor of its own TLS and crypto libraries.\n",
      "\n",
      "If you need to have openssl first in your PATH run:\n",
      "  echo 'export PATH=\"/usr/local/opt/openssl/bin:$PATH\"' >> ~/.bash_profile\n",
      "\n",
      "For compilers to find openssl you may need to set:\n",
      "  export LDFLAGS=\"-L/usr/local/opt/openssl/lib\"\n",
      "  export CPPFLAGS=\"-I/usr/local/opt/openssl/include\"\n",
      "\n",
      "\u001b[34m==>\u001b[0m \u001b[1mtmux\u001b[0m\n",
      "Example configuration has been installed to:\n",
      "  /usr/local/opt/tmux/share/tmux\n",
      "\n",
      "Bash completion has been installed to:\n",
      "  /usr/local/etc/bash_completion.d\n"
     ]
    }
   ],
   "source": [
    "!brew install tmux"
   ]
  },
  {
   "cell_type": "code",
   "execution_count": null,
   "metadata": {},
   "outputs": [],
   "source": []
  }
 ],
 "metadata": {
  "kernelspec": {
   "display_name": "Python 3",
   "language": "python",
   "name": "python3"
  },
  "language_info": {
   "codemirror_mode": {
    "name": "ipython",
    "version": 3
   },
   "file_extension": ".py",
   "mimetype": "text/x-python",
   "name": "python",
   "nbconvert_exporter": "python",
   "pygments_lexer": "ipython3",
   "version": "3.7.0"
  }
 },
 "nbformat": 4,
 "nbformat_minor": 2
}
