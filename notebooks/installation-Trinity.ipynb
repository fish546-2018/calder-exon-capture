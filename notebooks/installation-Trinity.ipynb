{
 "cells": [
  {
   "cell_type": "markdown",
   "metadata": {},
   "source": [
    "# Trinity Installation (+ samtools, jellyfish, and salmon)\n",
    "\n",
    "---\n",
    "\n",
    "#### Resources\n",
    "\n",
    "Github:\n",
    "https://github.com/trinityrnaseq/trinityrnaseq/wiki  \n",
    "Installation Instructions:\n",
    "https://github.com/trinityrnaseq/trinityrnaseq/wiki/Installing-Trinity  \n",
    "Download v2.8.4.zip\n",
    "https://github.com/trinityrnaseq/trinityrnaseq/archive/Trinity-v2.8.4.zip\n",
    "\n",
    "#### Locations\n",
    "\n",
    "Home Directory: "
   ]
  },
  {
   "cell_type": "code",
   "execution_count": null,
   "metadata": {},
   "outputs": [],
   "source": [
    "trinity_home = \"/Applications/bio-tools/trinityrnaseq-Trinity-v2.8.4\""
   ]
  },
  {
   "cell_type": "markdown",
   "metadata": {},
   "source": [
    "#### Instructions\n",
    "1. Navigate to the Home Trinity directory.\n",
    "2. Run the following command:\n",
    "```\n",
    "make\n",
    "make install\n",
    "```\n",
    "\n",
    "#### ParaFly and seqtk-trinity\n",
    "Both ParaFly and seqtk-trinity are required plugins for FISH 546 - Bioinformatics Project. Both are packaged within Trinity. `make` didn't seem to work in the Home Trinity directory, so I'm not sure if these would be installed, but if Trinity works but the plugins don't, go through the following steps.\n",
    "\n",
    "ParaFly: `{trinity_home}/trinity-plugins/ParaFly-0.1.0/` (Need to unzip from `ParaFly-0.1.0.tar.gz`)  \n",
    "seqtk-trinity: `{trinity_home}/trinity-plugins/ParaFly-0.1.0/`\n",
    "\n",
    "For each plugin,\n",
    "1. Navigate to the respective directory\n",
    "2. Run the following command:\n",
    "```\n",
    "./configure (only for ParaFly)\n",
    "make\n",
    "make install\n",
    "```\n",
    "\n",
    "#### samtools\n",
    "Home Page: http://www.htslib.org  \n",
    "Download v1.9: https://github.com/samtools/samtools/releases/download/1.9/samtools-1.9.tar.bz2\n",
    "1. Expand the .tar.bz2 file.\n",
    "2. Navigate to the expanded file.\n",
    "2. Run the following command:\n",
    "```\n",
    "./configure\n",
    "make\n",
    "make install\n",
    "```\n",
    "\n",
    "#### jellyfish\n",
    "Home Page: http://www.genome.umd.edu/jellyfish.html#Release  \n",
    "Download v2.2.10: https://github.com/gmarcais/Jellyfish/releases/download/v2.2.10/jellyfish-2.2.10.tar.gz\n",
    "1. Expand the .tar.bz2 file.\n",
    "2. Navigate to the expanded file.\n",
    "2. Run the following command:\n",
    "```\n",
    "./configure\n",
    "make\n",
    "sudo make install\n",
    "```\n",
    "\n",
    "#### salmon\n",
    "Home Page: https://combine-lab.github.io/salmon/  \n",
    "Installation Instructions: https://combine-lab.github.io/salmon/getting_started/  \n",
    "1. Run the following command to install via bioconda:\n",
    "```\n",
    "conda config --add channels conda-forge\n",
    "conda config --add channels bioconda\n",
    "conda create -n salmon salmon\n",
    "```\n",
    "2. Activate salmon.\n",
    "```\n",
    "conda activate salmon\n",
    "```"
   ]
  },
  {
   "cell_type": "code",
   "execution_count": null,
   "metadata": {},
   "outputs": [],
   "source": []
  }
 ],
 "metadata": {
  "kernelspec": {
   "display_name": "Python 3",
   "language": "python",
   "name": "python3"
  },
  "language_info": {
   "codemirror_mode": {
    "name": "ipython",
    "version": 3
   },
   "file_extension": ".py",
   "mimetype": "text/x-python",
   "name": "python",
   "nbconvert_exporter": "python",
   "pygments_lexer": "ipython3",
   "version": "3.7.0"
  }
 },
 "nbformat": 4,
 "nbformat_minor": 2
}
