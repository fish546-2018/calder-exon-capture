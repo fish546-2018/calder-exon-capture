{
 "cells": [
  {
   "cell_type": "markdown",
   "metadata": {},
   "source": [
    "# Exon-capture to Phylogeny Project\n",
    "\n",
    "Calder Atta - FISH 546 Project"
   ]
  },
  {
   "cell_type": "markdown",
   "metadata": {},
   "source": [
    "## Workflow (from Kuang et al. 2018)\n",
    "\n",
    "1. Raw reads from Illumina sequencer\n",
    "2. BCL to fastq format demultiplex (Illumina bcl2fastq package)\n",
    "3. Remove adapter sequences and low quality score reads (Cutadapt 1.1 Trim_golare v0.2.8)\n",
    "4. Remove the duplicates from PCR, parse the reads to each locus (A custom perl script: preads (supplementary))\n",
    "5. Assemble the filtered reads into contigs (Trinity v20140717)\n",
    "6. Merge the loci containing more than one contigs (Geneious v7.1.5)\n",
    "7. Retrieve orthology by pairwise alignment to corresponding baits sequence (A custom Perl script: Smith-Waterman algorithm)\n",
    "8. Identify orthology by comparing the retrieved sequence to the genome of O. nilotics (Blast v2.2.27)\n",
    "9. Multiple sequences alignment (Clustal Omega v1.1.1)\n",
    "10. Downstream analysis"
   ]
  },
  {
   "cell_type": "markdown",
   "metadata": {},
   "source": [
    "## Notes from Kuang et al. 2018\n",
    "\n",
    "- Samples and Genes\n",
    "\t- Sampled 43 species\n",
    "\t- 1 mt markers (COI)\n",
    "\t- 17817 nu markers (120bp baits)\n",
    "\t\t- target region <120bp was padded with T to 120bp\n",
    "- Filtering\n",
    "\t- only used sequences found in all species and <5% missing data -> 570 markers\n",
    "\t- parameters for evaluating usefulness (calculated for all markers)\n",
    "\t\t1. Average pairwise difference (p-dist)\n",
    "\t\t2. Molecular clocklikeness (MCL)"
   ]
  },
  {
   "cell_type": "markdown",
   "metadata": {},
   "source": [
    "## Getting started\n",
    "Set short cuts for frequently used directories inside variables."
   ]
  },
  {
   "cell_type": "code",
   "execution_count": 5,
   "metadata": {},
   "outputs": [],
   "source": [
    "project = \"/Users/calderatta/Desktop/FISH\\ 546\\ -\\ Bioinformatics/project/\""
   ]
  },
  {
   "cell_type": "code",
   "execution_count": null,
   "metadata": {},
   "outputs": [],
   "source": [
    "biotools = \"/Applications/bio-tools/\""
   ]
  },
  {
   "cell_type": "markdown",
   "metadata": {},
   "source": [
    "Examine raw data."
   ]
  },
  {
   "cell_type": "code",
   "execution_count": 9,
   "metadata": {},
   "outputs": [
    {
     "name": "stdout",
     "output_type": "stream",
     "text": [
      "\u001b[31mTORN_Pool_10_S10_L006_R1_001.fastq\u001b[m\u001b[m* \u001b[31mTORN_Pool_6_S6_L008_R1_001.fastq\u001b[m\u001b[m*\r\n",
      "\u001b[31mTORN_Pool_10_S10_L006_R2_001.fastq\u001b[m\u001b[m* \u001b[31mTORN_Pool_6_S6_L008_R2_001.fastq\u001b[m\u001b[m*\r\n",
      "\u001b[31mTORN_Pool_10_S10_L008_R1_001.fastq\u001b[m\u001b[m* \u001b[31mTORN_Pool_7_S7_L006_R1_001.fastq\u001b[m\u001b[m*\r\n",
      "\u001b[31mTORN_Pool_10_S10_L008_R2_001.fastq\u001b[m\u001b[m* \u001b[31mTORN_Pool_7_S7_L006_R2_001.fastq\u001b[m\u001b[m*\r\n",
      "\u001b[31mTORN_Pool_4_S4_L006_R1_001.fastq\u001b[m\u001b[m*   \u001b[31mTORN_Pool_7_S7_L008_R1_001.fastq\u001b[m\u001b[m*\r\n",
      "\u001b[31mTORN_Pool_4_S4_L006_R2_001.fastq\u001b[m\u001b[m*   \u001b[31mTORN_Pool_7_S7_L008_R2_001.fastq\u001b[m\u001b[m*\r\n",
      "\u001b[31mTORN_Pool_4_S4_L008_R1_001.fastq\u001b[m\u001b[m*   \u001b[31mTORN_Pool_8_S8_L006_R1_001.fastq\u001b[m\u001b[m*\r\n",
      "\u001b[31mTORN_Pool_4_S4_L008_R2_001.fastq\u001b[m\u001b[m*   \u001b[31mTORN_Pool_8_S8_L006_R2_001.fastq\u001b[m\u001b[m*\r\n",
      "\u001b[31mTORN_Pool_5_S5_L006_R1_001.fastq\u001b[m\u001b[m*   \u001b[31mTORN_Pool_8_S8_L008_R1_001.fastq\u001b[m\u001b[m*\r\n",
      "\u001b[31mTORN_Pool_5_S5_L006_R2_001.fastq\u001b[m\u001b[m*   \u001b[31mTORN_Pool_8_S8_L008_R2_001.fastq\u001b[m\u001b[m*\r\n",
      "\u001b[31mTORN_Pool_5_S5_L008_R1_001.fastq\u001b[m\u001b[m*   \u001b[31mTORN_Pool_9_S9_L006_R1_001.fastq\u001b[m\u001b[m*\r\n",
      "\u001b[31mTORN_Pool_5_S5_L008_R2_001.fastq\u001b[m\u001b[m*   \u001b[31mTORN_Pool_9_S9_L006_R2_001.fastq\u001b[m\u001b[m*\r\n",
      "\u001b[31mTORN_Pool_6_S6_L006_R1_001.fastq\u001b[m\u001b[m*   \u001b[31mTORN_Pool_9_S9_L008_R1_001.fastq\u001b[m\u001b[m*\r\n",
      "\u001b[31mTORN_Pool_6_S6_L006_R2_001.fastq\u001b[m\u001b[m*   \u001b[31mTORN_Pool_9_S9_L008_R2_001.fastq\u001b[m\u001b[m*\r\n"
     ]
    }
   ],
   "source": [
    "ls {project}raw"
   ]
  },
  {
   "cell_type": "markdown",
   "metadata": {},
   "source": [
    "Species 4 through 10 should be listed. For each species there are forward (R1) and reverse (R2) reads for each Illumina lane (L00#). Within each forward/reverse file pairs, the order of sequences is consistent."
   ]
  },
  {
   "cell_type": "code",
   "execution_count": 10,
   "metadata": {},
   "outputs": [
    {
     "name": "stdout",
     "output_type": "stream",
     "text": [
      "@K00179:70:HHV7JBBXX:6:1101:24454:1209 1:N:0:AACGAAGT\r\n",
      "TNTCTCTCTCTCTTGCTCTCTCTCTCTCTGTTTGAGCTCTCTCTCCCTCTCTCTCTCTCTCTGTCTCTCTCTGTTTGAGCTAACTCTCTCTCTCTGTTAGAGCTCTCTCTCGNTCGCTCTCTCTCGCTNTCGCTGGCTCGCACGCTCTCT\r\n",
      "+\r\n",
      "A#AAAFFFJJJFJFAJFJ-FFFAJFJ-FJ-AA<--7<-7FA7F<A--77A-7A-<777A-<F--A-<FF7F<-----777777F777A-77AF<---7A-----)-7-7-7)#--7--<)F<--7)-)#7A-77)--)7)))7)7)))--\r\n",
      "@K00179:70:HHV7JBBXX:6:1101:26829:1209 1:N:0:AACGAAGT\r\n",
      "CNCTTTCCTTCAGGAGAGACTCTGTCAGGAGGTGCAGGAGGAACAAAAGGAGCAAGAGGAGGAGGATCTGAAGGAGGGATGAGGTGTTGCAGGACGATGAACAGGAGGGGGAGCATGAGGAGGAGCAGGAGTAGGTGGAGCATAAGGAGG\r\n",
      "+\r\n",
      "A#AAFFJFFJJJJJJAFJJJAJFJ<JAAJJJJAJJJ7FFF<AJJFAJFFJ<AFJJF<AJJJFFJA77F7A--F-AAFF-7FJJJAF7FJ<AAFFJJ77AF7<<A<AJF))-))-)-77A<-<7AJF)<7)7-7-7<F-))7)---7--7)\r\n",
      "@K00179:70:HHV7JBBXX:6:1101:4472:1226 1:N:0:AACGAAGT\r\n",
      "GNAACAACATGGAGGTCAGAGGAGGAACAACATGGAGGTCAGAGGAGGAACAACATGGAGGTCAGAGGAGGAACAACATGGAGGTCAGAGAAGGCGCATCACGTATCTCAGANGAAAAGAAAGGAGGTNTGCAAAGACGAACGAGGGGGC\r\n"
     ]
    }
   ],
   "source": [
    "!head {project}raw/TORN_Pool_10_S10_L006_R1_001.fastq"
   ]
  },
  {
   "cell_type": "markdown",
   "metadata": {},
   "source": [
    "Now let's check that the number of sequences in R1 and R2 files match."
   ]
  },
  {
   "cell_type": "code",
   "execution_count": 21,
   "metadata": {},
   "outputs": [
    {
     "name": "stdout",
     "output_type": "stream",
     "text": [
      "2419885\r\n"
     ]
    }
   ],
   "source": [
    "!grep -c \"@\" {project}raw/TORN_Pool_10_S10_L008_R2_001.fastq"
   ]
  },
  {
   "cell_type": "code",
   "execution_count": 47,
   "metadata": {},
   "outputs": [
    {
     "name": "stdout",
     "output_type": "stream",
     "text": [
      "/Users/calderatta/Desktop/FISH 546 - Bioinformatics/project/raw/TORN_Pool_10_S10_L006_R1_001.fastq:2419885\n",
      "/Users/calderatta/Desktop/FISH 546 - Bioinformatics/project/raw/TORN_Pool_10_S10_L006_R2_001.fastq:2419885\n",
      "/Users/calderatta/Desktop/FISH 546 - Bioinformatics/project/raw/TORN_Pool_10_S10_L008_R1_001.fastq:1497568\n",
      "/Users/calderatta/Desktop/FISH 546 - Bioinformatics/project/raw/TORN_Pool_10_S10_L008_R2_001.fastq:1497568\n",
      "/Users/calderatta/Desktop/FISH 546 - Bioinformatics/project/raw/TORN_Pool_4_S4_L006_R1_001.fastq:3061218\n",
      "/Users/calderatta/Desktop/FISH 546 - Bioinformatics/project/raw/TORN_Pool_4_S4_L006_R2_001.fastq:3061218\n",
      "/Users/calderatta/Desktop/FISH 546 - Bioinformatics/project/raw/TORN_Pool_4_S4_L008_R1_001.fastq:2506641\n",
      "/Users/calderatta/Desktop/FISH 546 - Bioinformatics/project/raw/TORN_Pool_4_S4_L008_R2_001.fastq:2506641\n",
      "/Users/calderatta/Desktop/FISH 546 - Bioinformatics/project/raw/TORN_Pool_5_S5_L006_R1_001.fastq:1248025\n",
      "/Users/calderatta/Desktop/FISH 546 - Bioinformatics/project/raw/TORN_Pool_5_S5_L006_R2_001.fastq:1248025\n",
      "/Users/calderatta/Desktop/FISH 546 - Bioinformatics/project/raw/TORN_Pool_5_S5_L008_R1_001.fastq:870104\n",
      "/Users/calderatta/Desktop/FISH 546 - Bioinformatics/project/raw/TORN_Pool_5_S5_L008_R2_001.fastq:870104\n",
      "/Users/calderatta/Desktop/FISH 546 - Bioinformatics/project/raw/TORN_Pool_6_S6_L006_R1_001.fastq:3406559\n",
      "/Users/calderatta/Desktop/FISH 546 - Bioinformatics/project/raw/TORN_Pool_6_S6_L006_R2_001.fastq:3406559\n",
      "/Users/calderatta/Desktop/FISH 546 - Bioinformatics/project/raw/TORN_Pool_6_S6_L008_R1_001.fastq:3107867\n",
      "/Users/calderatta/Desktop/FISH 546 - Bioinformatics/project/raw/TORN_Pool_6_S6_L008_R2_001.fastq:3107867\n",
      "/Users/calderatta/Desktop/FISH 546 - Bioinformatics/project/raw/TORN_Pool_7_S7_L006_R1_001.fastq:2565256\n",
      "/Users/calderatta/Desktop/FISH 546 - Bioinformatics/project/raw/TORN_Pool_7_S7_L006_R2_001.fastq:2565256\n",
      "/Users/calderatta/Desktop/FISH 546 - Bioinformatics/project/raw/TORN_Pool_7_S7_L008_R1_001.fastq:3177384\n",
      "/Users/calderatta/Desktop/FISH 546 - Bioinformatics/project/raw/TORN_Pool_7_S7_L008_R2_001.fastq:3177384\n",
      "/Users/calderatta/Desktop/FISH 546 - Bioinformatics/project/raw/TORN_Pool_8_S8_L006_R1_001.fastq:2083571\n",
      "/Users/calderatta/Desktop/FISH 546 - Bioinformatics/project/raw/TORN_Pool_8_S8_L006_R2_001.fastq:2083571\n",
      "/Users/calderatta/Desktop/FISH 546 - Bioinformatics/project/raw/TORN_Pool_8_S8_L008_R1_001.fastq:2274644\n",
      "/Users/calderatta/Desktop/FISH 546 - Bioinformatics/project/raw/TORN_Pool_8_S8_L008_R2_001.fastq:2274644\n",
      "/Users/calderatta/Desktop/FISH 546 - Bioinformatics/project/raw/TORN_Pool_9_S9_L006_R1_001.fastq:2924224\n",
      "/Users/calderatta/Desktop/FISH 546 - Bioinformatics/project/raw/TORN_Pool_9_S9_L006_R2_001.fastq:2924224\n",
      "/Users/calderatta/Desktop/FISH 546 - Bioinformatics/project/raw/TORN_Pool_9_S9_L008_R1_001.fastq:2114997\n",
      "/Users/calderatta/Desktop/FISH 546 - Bioinformatics/project/raw/TORN_Pool_9_S9_L008_R2_001.fastq:2114997\n"
     ]
    }
   ],
   "source": [
    "!grep -c '@' {project}raw/*.fastq"
   ]
  },
  {
   "cell_type": "markdown",
   "metadata": {},
   "source": [
    "## 1. Raw Reads from Illumina Sequencer\n",
    "This was already done."
   ]
  },
  {
   "cell_type": "markdown",
   "metadata": {},
   "source": [
    "## 2. BCL to fastq format demultiplex\n",
    "This was already done."
   ]
  },
  {
   "cell_type": "markdown",
   "metadata": {},
   "source": [
    "## 3. Remove adapter sequences and low quality score reads"
   ]
  },
  {
   "cell_type": "markdown",
   "metadata": {},
   "source": [
    "### FastQC - checking quality across all squences in each file\n",
    "#### Istallation for FastQC v0.11.8\n",
    "First check that java is in stalled and at least ver 1.8."
   ]
  },
  {
   "cell_type": "code",
   "execution_count": 8,
   "metadata": {},
   "outputs": [
    {
     "name": "stdout",
     "output_type": "stream",
     "text": [
      "java version \"1.8.0_131\"\r\n",
      "Java(TM) SE Runtime Environment (build 1.8.0_131-b11)\r\n",
      "Java HotSpot(TM) 64-Bit Server VM (build 25.131-b11, mixed mode)\r\n"
     ]
    }
   ],
   "source": [
    "!java -version"
   ]
  },
  {
   "cell_type": "markdown",
   "metadata": {},
   "source": [
    "#### On Mac (DMG file for GUI application)\n",
    "Link: https://www.bioinformatics.babraham.ac.uk/projects/fastqc/fastqc_v0.11.8.dmg\n",
    "\n",
    "Install from .dmg file. Open the application, and select file(s)."
   ]
  },
  {
   "cell_type": "code",
   "execution_count": 31,
   "metadata": {},
   "outputs": [
    {
     "name": "stdout",
     "output_type": "stream",
     "text": [
      "  % Total    % Received % Xferd  Average Speed   Time    Time     Time  Current\n",
      "                                 Dload  Upload   Total   Spent    Left  Speed\n",
      "100 10.0M  100 10.0M    0     0  99908      0  0:01:45  0:01:45 --:--:--  115k10.0M   48 5014k    0     0   109k      0  0:01:33  0:00:45  0:00:48 87391 10.0M   65 6726k    0     0  96291      0  0:01:49  0:01:11  0:00:38 63668\n"
     ]
    }
   ],
   "source": [
    "!curl https://www.bioinformatics.babraham.ac.uk/projects/fastqc/fastqc_v0.11.8.dmg > {biotools}fastqc_v0.11.8.dmg"
   ]
  },
  {
   "cell_type": "code",
   "execution_count": 10,
   "metadata": {},
   "outputs": [],
   "source": [
    "!open {biotools}FastQC.app"
   ]
  },
  {
   "cell_type": "markdown",
   "metadata": {},
   "source": [
    "#### On Windows or Mac (Zip file to run in Bash; Use this version for creating a pipeline)\n",
    "Link: https://www.bioinformatics.babraham.ac.uk/projects/fastqc/fastqc_v0.11.8.zip"
   ]
  },
  {
   "cell_type": "code",
   "execution_count": 9,
   "metadata": {},
   "outputs": [
    {
     "name": "stdout",
     "output_type": "stream",
     "text": [
      "  % Total    % Received % Xferd  Average Speed   Time    Time     Time  Current\n",
      "                                 Dload  Upload   Total   Spent    Left  Speed\n",
      "100  9.7M  100  9.7M    0     0   158k      0  0:01:03  0:01:03 --:--:--  114k   175k      0  0:00:57  0:00:49  0:00:08  144k\n"
     ]
    }
   ],
   "source": [
    "!curl https://www.bioinformatics.babraham.ac.uk/projects/fastqc/fastqc_v0.11.8.zip > {biotools}fastqc_v0.11.8.zip"
   ]
  },
  {
   "cell_type": "code",
   "execution_count": null,
   "metadata": {},
   "outputs": [],
   "source": [
    "!unzip {biotools}fastqc_v0.11.8.zip"
   ]
  },
  {
   "cell_type": "markdown",
   "metadata": {},
   "source": [
    "Note: I already had a working version that I downloaded straight from Safari."
   ]
  },
  {
   "cell_type": "code",
   "execution_count": 18,
   "metadata": {},
   "outputs": [
    {
     "name": "stdout",
     "output_type": "stream",
     "text": [
      "\r\n",
      "            FastQC - A high throughput sequence QC analysis tool\r\n",
      "\r\n",
      "SYNOPSIS\r\n",
      "\r\n",
      "\tfastqc seqfile1 seqfile2 .. seqfileN\r\n",
      "\r\n",
      "    fastqc [-o output dir] [--(no)extract] [-f fastq|bam|sam] \r\n",
      "           [-c contaminant file] seqfile1 .. seqfileN\r\n",
      "\r\n",
      "DESCRIPTION\r\n",
      "\r\n",
      "    FastQC reads a set of sequence files and produces from each one a quality\r\n",
      "    control report consisting of a number of different modules, each one of \r\n",
      "    which will help to identify a different potential type of problem in your\r\n",
      "    data.\r\n",
      "    \r\n",
      "    If no files to process are specified on the command line then the program\r\n",
      "    will start as an interactive graphical application.  If files are provided\r\n",
      "    on the command line then the program will run with no user interaction\r\n",
      "    required.  In this mode it is suitable for inclusion into a standardised\r\n",
      "    analysis pipeline.\r\n",
      "    \r\n",
      "    The options for the program as as follows:\r\n",
      "    \r\n",
      "    -h --help       Print this help file and exit\r\n",
      "    \r\n",
      "    -v --version    Print the version of the program and exit\r\n",
      "    \r\n",
      "    -o --outdir     Create all output files in the specified output directory.\r\n",
      "                    Please note that this directory must exist as the program\r\n",
      "                    will not create it.  If this option is not set then the \r\n",
      "                    output file for each sequence file is created in the same\r\n",
      "                    directory as the sequence file which was processed.\r\n",
      "                    \r\n",
      "    --casava        Files come from raw casava output. Files in the same sample\r\n",
      "                    group (differing only by the group number) will be analysed\r\n",
      "                    as a set rather than individually. Sequences with the filter\r\n",
      "                    flag set in the header will be excluded from the analysis.\r\n",
      "                    Files must have the same names given to them by casava\r\n",
      "                    (including being gzipped and ending with .gz) otherwise they\r\n",
      "                    won't be grouped together correctly.\r\n",
      "                    \r\n",
      "    --nano          Files come from nanopore sequences and are in fast5 format. In\r\n",
      "                    this mode you can pass in directories to process and the program\r\n",
      "                    will take in all fast5 files within those directories and produce\r\n",
      "                    a single output file from the sequences found in all files.                    \r\n",
      "                    \r\n",
      "    --nofilter      If running with --casava then don't remove read flagged by\r\n",
      "                    casava as poor quality when performing the QC analysis.\r\n",
      "                   \r\n",
      "    --extract       If set then the zipped output file will be uncompressed in\r\n",
      "                    the same directory after it has been created.  By default\r\n",
      "                    this option will be set if fastqc is run in non-interactive\r\n",
      "                    mode.\r\n",
      "                    \r\n",
      "    -j --java       Provides the full path to the java binary you want to use to\r\n",
      "                    launch fastqc. If not supplied then java is assumed to be in\r\n",
      "                    your path.\r\n",
      "                   \r\n",
      "    --noextract     Do not uncompress the output file after creating it.  You\r\n",
      "                    should set this option if you do not wish to uncompress\r\n",
      "                    the output when running in non-interactive mode.\r\n",
      "                    \r\n",
      "    --nogroup       Disable grouping of bases for reads >50bp. All reports will\r\n",
      "                    show data for every base in the read.  WARNING: Using this\r\n",
      "                    option will cause fastqc to crash and burn if you use it on\r\n",
      "                    really long reads, and your plots may end up a ridiculous size.\r\n",
      "                    You have been warned!\r\n",
      "                    \r\n",
      "    --min_length    Sets an artificial lower limit on the length of the sequence\r\n",
      "                    to be shown in the report.  As long as you set this to a value\r\n",
      "                    greater or equal to your longest read length then this will be\r\n",
      "                    the sequence length used to create your read groups.  This can\r\n",
      "                    be useful for making directly comaparable statistics from \r\n",
      "                    datasets with somewhat variable read lengths.\r\n",
      "                    \r\n",
      "    -f --format     Bypasses the normal sequence file format detection and\r\n",
      "                    forces the program to use the specified format.  Valid\r\n",
      "                    formats are bam,sam,bam_mapped,sam_mapped and fastq\r\n",
      "                    \r\n",
      "    -t --threads    Specifies the number of files which can be processed\r\n",
      "                    simultaneously.  Each thread will be allocated 250MB of\r\n",
      "                    memory so you shouldn't run more threads than your\r\n",
      "                    available memory will cope with, and not more than\r\n",
      "                    6 threads on a 32 bit machine\r\n",
      "                  \r\n",
      "    -c              Specifies a non-default file which contains the list of\r\n",
      "    --contaminants  contaminants to screen overrepresented sequences against.\r\n",
      "                    The file must contain sets of named contaminants in the\r\n",
      "                    form name[tab]sequence.  Lines prefixed with a hash will\r\n",
      "                    be ignored.\r\n",
      "\r\n",
      "    -a              Specifies a non-default file which contains the list of\r\n",
      "    --adapters      adapter sequences which will be explicity searched against\r\n",
      "                    the library. The file must contain sets of named adapters\r\n",
      "                    in the form name[tab]sequence.  Lines prefixed with a hash\r\n",
      "                    will be ignored.\r\n",
      "                    \r\n",
      "    -l              Specifies a non-default file which contains a set of criteria\r\n",
      "    --limits        which will be used to determine the warn/error limits for the\r\n",
      "                    various modules.  This file can also be used to selectively \r\n",
      "                    remove some modules from the output all together.  The format\r\n",
      "                    needs to mirror the default limits.txt file found in the\r\n",
      "                    Configuration folder.\r\n",
      "                    \r\n",
      "   -k --kmers       Specifies the length of Kmer to look for in the Kmer content\r\n",
      "                    module. Specified Kmer length must be between 2 and 10. Default\r\n",
      "                    length is 7 if not specified.\r\n",
      "                    \r\n",
      "   -q --quiet       Supress all progress messages on stdout and only report errors.\r\n",
      "   \r\n",
      "   -d --dir         Selects a directory to be used for temporary files written when\r\n",
      "                    generating report images. Defaults to system temp directory if\r\n",
      "                    not specified.\r\n",
      "                    \r\n",
      "BUGS\r\n",
      "\r\n",
      "    Any bugs in fastqc should be reported either to simon.andrews@babraham.ac.uk\r\n",
      "    or in www.bioinformatics.babraham.ac.uk/bugzilla/\r\n",
      "                   \r\n",
      "    \r\n"
     ]
    }
   ],
   "source": [
    "!{biotools}FastQC/fastqc -h"
   ]
  },
  {
   "cell_type": "code",
   "execution_count": 6,
   "metadata": {},
   "outputs": [
    {
     "name": "stdout",
     "output_type": "stream",
     "text": [
      "Started analysis of TORN_Pool_10_S10_L006_R1_001.fastq\n",
      "Approx 5% complete for TORN_Pool_10_S10_L006_R1_001.fastq\n",
      "Approx 10% complete for TORN_Pool_10_S10_L006_R1_001.fastq\n",
      "Approx 15% complete for TORN_Pool_10_S10_L006_R1_001.fastq\n",
      "Approx 20% complete for TORN_Pool_10_S10_L006_R1_001.fastq\n",
      "Approx 25% complete for TORN_Pool_10_S10_L006_R1_001.fastq\n",
      "Approx 30% complete for TORN_Pool_10_S10_L006_R1_001.fastq\n",
      "Approx 35% complete for TORN_Pool_10_S10_L006_R1_001.fastq\n",
      "Approx 40% complete for TORN_Pool_10_S10_L006_R1_001.fastq\n",
      "Approx 45% complete for TORN_Pool_10_S10_L006_R1_001.fastq\n",
      "Approx 50% complete for TORN_Pool_10_S10_L006_R1_001.fastq\n",
      "Approx 55% complete for TORN_Pool_10_S10_L006_R1_001.fastq\n",
      "Approx 60% complete for TORN_Pool_10_S10_L006_R1_001.fastq\n",
      "Approx 65% complete for TORN_Pool_10_S10_L006_R1_001.fastq\n",
      "Approx 70% complete for TORN_Pool_10_S10_L006_R1_001.fastq\n",
      "Approx 75% complete for TORN_Pool_10_S10_L006_R1_001.fastq\n",
      "Approx 80% complete for TORN_Pool_10_S10_L006_R1_001.fastq\n",
      "Approx 85% complete for TORN_Pool_10_S10_L006_R1_001.fastq\n",
      "Approx 90% complete for TORN_Pool_10_S10_L006_R1_001.fastq\n",
      "Approx 95% complete for TORN_Pool_10_S10_L006_R1_001.fastq\n",
      "Analysis complete for TORN_Pool_10_S10_L006_R1_001.fastq\n",
      "Started analysis of TORN_Pool_10_S10_L006_R2_001.fastq\n",
      "Approx 5% complete for TORN_Pool_10_S10_L006_R2_001.fastq\n",
      "Approx 10% complete for TORN_Pool_10_S10_L006_R2_001.fastq\n",
      "Approx 15% complete for TORN_Pool_10_S10_L006_R2_001.fastq\n",
      "Approx 20% complete for TORN_Pool_10_S10_L006_R2_001.fastq\n",
      "Approx 25% complete for TORN_Pool_10_S10_L006_R2_001.fastq\n",
      "Approx 30% complete for TORN_Pool_10_S10_L006_R2_001.fastq\n",
      "Approx 35% complete for TORN_Pool_10_S10_L006_R2_001.fastq\n",
      "Approx 40% complete for TORN_Pool_10_S10_L006_R2_001.fastq\n",
      "Approx 45% complete for TORN_Pool_10_S10_L006_R2_001.fastq\n",
      "Approx 50% complete for TORN_Pool_10_S10_L006_R2_001.fastq\n",
      "Approx 55% complete for TORN_Pool_10_S10_L006_R2_001.fastq\n",
      "Approx 60% complete for TORN_Pool_10_S10_L006_R2_001.fastq\n",
      "Approx 65% complete for TORN_Pool_10_S10_L006_R2_001.fastq\n",
      "Approx 70% complete for TORN_Pool_10_S10_L006_R2_001.fastq\n",
      "Approx 75% complete for TORN_Pool_10_S10_L006_R2_001.fastq\n",
      "Approx 80% complete for TORN_Pool_10_S10_L006_R2_001.fastq\n",
      "Approx 85% complete for TORN_Pool_10_S10_L006_R2_001.fastq\n",
      "Approx 90% complete for TORN_Pool_10_S10_L006_R2_001.fastq\n",
      "Approx 95% complete for TORN_Pool_10_S10_L006_R2_001.fastq\n",
      "Analysis complete for TORN_Pool_10_S10_L006_R2_001.fastq\n",
      "Started analysis of TORN_Pool_10_S10_L008_R1_001.fastq\n",
      "Approx 5% complete for TORN_Pool_10_S10_L008_R1_001.fastq\n",
      "Approx 10% complete for TORN_Pool_10_S10_L008_R1_001.fastq\n",
      "Approx 15% complete for TORN_Pool_10_S10_L008_R1_001.fastq\n",
      "Approx 20% complete for TORN_Pool_10_S10_L008_R1_001.fastq\n",
      "Approx 25% complete for TORN_Pool_10_S10_L008_R1_001.fastq\n",
      "Approx 30% complete for TORN_Pool_10_S10_L008_R1_001.fastq\n",
      "Approx 35% complete for TORN_Pool_10_S10_L008_R1_001.fastq\n",
      "Approx 40% complete for TORN_Pool_10_S10_L008_R1_001.fastq\n",
      "Approx 45% complete for TORN_Pool_10_S10_L008_R1_001.fastq\n",
      "Approx 50% complete for TORN_Pool_10_S10_L008_R1_001.fastq\n",
      "Approx 55% complete for TORN_Pool_10_S10_L008_R1_001.fastq\n",
      "Approx 60% complete for TORN_Pool_10_S10_L008_R1_001.fastq\n",
      "Approx 65% complete for TORN_Pool_10_S10_L008_R1_001.fastq\n",
      "Approx 70% complete for TORN_Pool_10_S10_L008_R1_001.fastq\n",
      "Approx 75% complete for TORN_Pool_10_S10_L008_R1_001.fastq\n",
      "Approx 80% complete for TORN_Pool_10_S10_L008_R1_001.fastq\n",
      "Approx 85% complete for TORN_Pool_10_S10_L008_R1_001.fastq\n",
      "Approx 90% complete for TORN_Pool_10_S10_L008_R1_001.fastq\n",
      "Approx 95% complete for TORN_Pool_10_S10_L008_R1_001.fastq\n",
      "Analysis complete for TORN_Pool_10_S10_L008_R1_001.fastq\n",
      "Started analysis of TORN_Pool_10_S10_L008_R2_001.fastq\n",
      "Approx 5% complete for TORN_Pool_10_S10_L008_R2_001.fastq\n",
      "Approx 10% complete for TORN_Pool_10_S10_L008_R2_001.fastq\n",
      "Approx 15% complete for TORN_Pool_10_S10_L008_R2_001.fastq\n",
      "Approx 20% complete for TORN_Pool_10_S10_L008_R2_001.fastq\n",
      "Approx 25% complete for TORN_Pool_10_S10_L008_R2_001.fastq\n",
      "Approx 30% complete for TORN_Pool_10_S10_L008_R2_001.fastq\n",
      "Approx 35% complete for TORN_Pool_10_S10_L008_R2_001.fastq\n",
      "Approx 40% complete for TORN_Pool_10_S10_L008_R2_001.fastq\n",
      "Approx 45% complete for TORN_Pool_10_S10_L008_R2_001.fastq\n",
      "Approx 50% complete for TORN_Pool_10_S10_L008_R2_001.fastq\n",
      "Approx 55% complete for TORN_Pool_10_S10_L008_R2_001.fastq\n",
      "Approx 60% complete for TORN_Pool_10_S10_L008_R2_001.fastq\n",
      "Approx 65% complete for TORN_Pool_10_S10_L008_R2_001.fastq\n",
      "Approx 70% complete for TORN_Pool_10_S10_L008_R2_001.fastq\n",
      "Approx 75% complete for TORN_Pool_10_S10_L008_R2_001.fastq\n",
      "Approx 80% complete for TORN_Pool_10_S10_L008_R2_001.fastq\n",
      "Approx 85% complete for TORN_Pool_10_S10_L008_R2_001.fastq\n",
      "Approx 90% complete for TORN_Pool_10_S10_L008_R2_001.fastq\n",
      "Approx 95% complete for TORN_Pool_10_S10_L008_R2_001.fastq\n",
      "Analysis complete for TORN_Pool_10_S10_L008_R2_001.fastq\n",
      "Started analysis of TORN_Pool_4_S4_L006_R1_001.fastq\n",
      "Approx 5% complete for TORN_Pool_4_S4_L006_R1_001.fastq\n",
      "Approx 10% complete for TORN_Pool_4_S4_L006_R1_001.fastq\n",
      "Approx 15% complete for TORN_Pool_4_S4_L006_R1_001.fastq\n",
      "Approx 20% complete for TORN_Pool_4_S4_L006_R1_001.fastq\n",
      "Approx 25% complete for TORN_Pool_4_S4_L006_R1_001.fastq\n",
      "Approx 30% complete for TORN_Pool_4_S4_L006_R1_001.fastq\n",
      "Approx 35% complete for TORN_Pool_4_S4_L006_R1_001.fastq\n",
      "Approx 40% complete for TORN_Pool_4_S4_L006_R1_001.fastq\n",
      "Approx 45% complete for TORN_Pool_4_S4_L006_R1_001.fastq\n",
      "Approx 50% complete for TORN_Pool_4_S4_L006_R1_001.fastq\n",
      "Approx 55% complete for TORN_Pool_4_S4_L006_R1_001.fastq\n",
      "Approx 60% complete for TORN_Pool_4_S4_L006_R1_001.fastq\n",
      "Approx 65% complete for TORN_Pool_4_S4_L006_R1_001.fastq\n",
      "Approx 70% complete for TORN_Pool_4_S4_L006_R1_001.fastq\n",
      "Approx 75% complete for TORN_Pool_4_S4_L006_R1_001.fastq\n",
      "Approx 80% complete for TORN_Pool_4_S4_L006_R1_001.fastq\n",
      "Approx 85% complete for TORN_Pool_4_S4_L006_R1_001.fastq\n",
      "Approx 90% complete for TORN_Pool_4_S4_L006_R1_001.fastq\n",
      "Approx 95% complete for TORN_Pool_4_S4_L006_R1_001.fastq\n",
      "Analysis complete for TORN_Pool_4_S4_L006_R1_001.fastq\n",
      "Started analysis of TORN_Pool_4_S4_L006_R2_001.fastq\n",
      "Approx 5% complete for TORN_Pool_4_S4_L006_R2_001.fastq\n",
      "Approx 10% complete for TORN_Pool_4_S4_L006_R2_001.fastq\n",
      "Approx 15% complete for TORN_Pool_4_S4_L006_R2_001.fastq\n",
      "Approx 20% complete for TORN_Pool_4_S4_L006_R2_001.fastq\n",
      "Approx 25% complete for TORN_Pool_4_S4_L006_R2_001.fastq\n",
      "Approx 30% complete for TORN_Pool_4_S4_L006_R2_001.fastq\n",
      "Approx 35% complete for TORN_Pool_4_S4_L006_R2_001.fastq\n",
      "Approx 40% complete for TORN_Pool_4_S4_L006_R2_001.fastq\n",
      "Approx 45% complete for TORN_Pool_4_S4_L006_R2_001.fastq\n",
      "Approx 50% complete for TORN_Pool_4_S4_L006_R2_001.fastq\n",
      "Approx 55% complete for TORN_Pool_4_S4_L006_R2_001.fastq\n",
      "Approx 60% complete for TORN_Pool_4_S4_L006_R2_001.fastq\n",
      "Approx 65% complete for TORN_Pool_4_S4_L006_R2_001.fastq\n",
      "Approx 70% complete for TORN_Pool_4_S4_L006_R2_001.fastq\n",
      "Approx 75% complete for TORN_Pool_4_S4_L006_R2_001.fastq\n",
      "Approx 80% complete for TORN_Pool_4_S4_L006_R2_001.fastq\n",
      "Approx 85% complete for TORN_Pool_4_S4_L006_R2_001.fastq\n",
      "Approx 90% complete for TORN_Pool_4_S4_L006_R2_001.fastq\n",
      "Approx 95% complete for TORN_Pool_4_S4_L006_R2_001.fastq\n",
      "Analysis complete for TORN_Pool_4_S4_L006_R2_001.fastq\n",
      "Started analysis of TORN_Pool_4_S4_L008_R1_001.fastq\n",
      "Approx 5% complete for TORN_Pool_4_S4_L008_R1_001.fastq\n",
      "Approx 10% complete for TORN_Pool_4_S4_L008_R1_001.fastq\n",
      "Approx 15% complete for TORN_Pool_4_S4_L008_R1_001.fastq\n",
      "Approx 20% complete for TORN_Pool_4_S4_L008_R1_001.fastq\n",
      "Approx 25% complete for TORN_Pool_4_S4_L008_R1_001.fastq\n",
      "Approx 30% complete for TORN_Pool_4_S4_L008_R1_001.fastq\n",
      "Approx 35% complete for TORN_Pool_4_S4_L008_R1_001.fastq\n",
      "Approx 40% complete for TORN_Pool_4_S4_L008_R1_001.fastq\n",
      "Approx 45% complete for TORN_Pool_4_S4_L008_R1_001.fastq\n",
      "Approx 50% complete for TORN_Pool_4_S4_L008_R1_001.fastq\n",
      "Approx 55% complete for TORN_Pool_4_S4_L008_R1_001.fastq\n",
      "Approx 60% complete for TORN_Pool_4_S4_L008_R1_001.fastq\n",
      "Approx 65% complete for TORN_Pool_4_S4_L008_R1_001.fastq\n",
      "Approx 70% complete for TORN_Pool_4_S4_L008_R1_001.fastq\n",
      "Approx 75% complete for TORN_Pool_4_S4_L008_R1_001.fastq\n"
     ]
    },
    {
     "name": "stdout",
     "output_type": "stream",
     "text": [
      "Approx 80% complete for TORN_Pool_4_S4_L008_R1_001.fastq\n",
      "Approx 85% complete for TORN_Pool_4_S4_L008_R1_001.fastq\n",
      "Approx 90% complete for TORN_Pool_4_S4_L008_R1_001.fastq\n",
      "Approx 95% complete for TORN_Pool_4_S4_L008_R1_001.fastq\n",
      "Analysis complete for TORN_Pool_4_S4_L008_R1_001.fastq\n",
      "Started analysis of TORN_Pool_4_S4_L008_R2_001.fastq\n",
      "Approx 5% complete for TORN_Pool_4_S4_L008_R2_001.fastq\n",
      "Approx 10% complete for TORN_Pool_4_S4_L008_R2_001.fastq\n",
      "Approx 15% complete for TORN_Pool_4_S4_L008_R2_001.fastq\n",
      "Approx 20% complete for TORN_Pool_4_S4_L008_R2_001.fastq\n",
      "Approx 25% complete for TORN_Pool_4_S4_L008_R2_001.fastq\n",
      "Approx 30% complete for TORN_Pool_4_S4_L008_R2_001.fastq\n",
      "Approx 35% complete for TORN_Pool_4_S4_L008_R2_001.fastq\n",
      "Approx 40% complete for TORN_Pool_4_S4_L008_R2_001.fastq\n",
      "Approx 45% complete for TORN_Pool_4_S4_L008_R2_001.fastq\n",
      "Approx 50% complete for TORN_Pool_4_S4_L008_R2_001.fastq\n",
      "Approx 55% complete for TORN_Pool_4_S4_L008_R2_001.fastq\n",
      "Approx 60% complete for TORN_Pool_4_S4_L008_R2_001.fastq\n",
      "Approx 65% complete for TORN_Pool_4_S4_L008_R2_001.fastq\n",
      "Approx 70% complete for TORN_Pool_4_S4_L008_R2_001.fastq\n",
      "Approx 75% complete for TORN_Pool_4_S4_L008_R2_001.fastq\n",
      "Approx 80% complete for TORN_Pool_4_S4_L008_R2_001.fastq\n",
      "Approx 85% complete for TORN_Pool_4_S4_L008_R2_001.fastq\n",
      "Approx 90% complete for TORN_Pool_4_S4_L008_R2_001.fastq\n",
      "Approx 95% complete for TORN_Pool_4_S4_L008_R2_001.fastq\n",
      "Analysis complete for TORN_Pool_4_S4_L008_R2_001.fastq\n",
      "Started analysis of TORN_Pool_5_S5_L006_R1_001.fastq\n",
      "Approx 5% complete for TORN_Pool_5_S5_L006_R1_001.fastq\n",
      "Approx 10% complete for TORN_Pool_5_S5_L006_R1_001.fastq\n",
      "Approx 15% complete for TORN_Pool_5_S5_L006_R1_001.fastq\n",
      "Approx 20% complete for TORN_Pool_5_S5_L006_R1_001.fastq\n",
      "Approx 25% complete for TORN_Pool_5_S5_L006_R1_001.fastq\n",
      "Approx 30% complete for TORN_Pool_5_S5_L006_R1_001.fastq\n",
      "Approx 35% complete for TORN_Pool_5_S5_L006_R1_001.fastq\n",
      "Approx 40% complete for TORN_Pool_5_S5_L006_R1_001.fastq\n",
      "Approx 45% complete for TORN_Pool_5_S5_L006_R1_001.fastq\n",
      "Approx 50% complete for TORN_Pool_5_S5_L006_R1_001.fastq\n",
      "Approx 55% complete for TORN_Pool_5_S5_L006_R1_001.fastq\n",
      "Approx 60% complete for TORN_Pool_5_S5_L006_R1_001.fastq\n",
      "Approx 65% complete for TORN_Pool_5_S5_L006_R1_001.fastq\n",
      "Approx 70% complete for TORN_Pool_5_S5_L006_R1_001.fastq\n",
      "Approx 75% complete for TORN_Pool_5_S5_L006_R1_001.fastq\n",
      "Approx 80% complete for TORN_Pool_5_S5_L006_R1_001.fastq\n",
      "Approx 85% complete for TORN_Pool_5_S5_L006_R1_001.fastq\n",
      "Approx 90% complete for TORN_Pool_5_S5_L006_R1_001.fastq\n",
      "Approx 95% complete for TORN_Pool_5_S5_L006_R1_001.fastq\n",
      "Analysis complete for TORN_Pool_5_S5_L006_R1_001.fastq\n",
      "Started analysis of TORN_Pool_5_S5_L006_R2_001.fastq\n",
      "Approx 5% complete for TORN_Pool_5_S5_L006_R2_001.fastq\n",
      "Approx 10% complete for TORN_Pool_5_S5_L006_R2_001.fastq\n",
      "Approx 15% complete for TORN_Pool_5_S5_L006_R2_001.fastq\n",
      "Approx 20% complete for TORN_Pool_5_S5_L006_R2_001.fastq\n",
      "Approx 25% complete for TORN_Pool_5_S5_L006_R2_001.fastq\n",
      "Approx 30% complete for TORN_Pool_5_S5_L006_R2_001.fastq\n",
      "Approx 35% complete for TORN_Pool_5_S5_L006_R2_001.fastq\n",
      "Approx 40% complete for TORN_Pool_5_S5_L006_R2_001.fastq\n",
      "Approx 45% complete for TORN_Pool_5_S5_L006_R2_001.fastq\n",
      "Approx 50% complete for TORN_Pool_5_S5_L006_R2_001.fastq\n",
      "Approx 55% complete for TORN_Pool_5_S5_L006_R2_001.fastq\n",
      "Approx 60% complete for TORN_Pool_5_S5_L006_R2_001.fastq\n",
      "Approx 65% complete for TORN_Pool_5_S5_L006_R2_001.fastq\n",
      "Approx 70% complete for TORN_Pool_5_S5_L006_R2_001.fastq\n",
      "Approx 75% complete for TORN_Pool_5_S5_L006_R2_001.fastq\n",
      "Approx 80% complete for TORN_Pool_5_S5_L006_R2_001.fastq\n",
      "Approx 85% complete for TORN_Pool_5_S5_L006_R2_001.fastq\n",
      "Approx 90% complete for TORN_Pool_5_S5_L006_R2_001.fastq\n",
      "Approx 95% complete for TORN_Pool_5_S5_L006_R2_001.fastq\n",
      "Analysis complete for TORN_Pool_5_S5_L006_R2_001.fastq\n",
      "Started analysis of TORN_Pool_5_S5_L008_R1_001.fastq\n",
      "Approx 5% complete for TORN_Pool_5_S5_L008_R1_001.fastq\n",
      "Approx 10% complete for TORN_Pool_5_S5_L008_R1_001.fastq\n",
      "Approx 15% complete for TORN_Pool_5_S5_L008_R1_001.fastq\n",
      "Approx 20% complete for TORN_Pool_5_S5_L008_R1_001.fastq\n",
      "Approx 25% complete for TORN_Pool_5_S5_L008_R1_001.fastq\n",
      "Approx 30% complete for TORN_Pool_5_S5_L008_R1_001.fastq\n",
      "Approx 35% complete for TORN_Pool_5_S5_L008_R1_001.fastq\n",
      "Approx 40% complete for TORN_Pool_5_S5_L008_R1_001.fastq\n",
      "Approx 45% complete for TORN_Pool_5_S5_L008_R1_001.fastq\n",
      "Approx 50% complete for TORN_Pool_5_S5_L008_R1_001.fastq\n",
      "Approx 55% complete for TORN_Pool_5_S5_L008_R1_001.fastq\n",
      "Approx 60% complete for TORN_Pool_5_S5_L008_R1_001.fastq\n",
      "Approx 65% complete for TORN_Pool_5_S5_L008_R1_001.fastq\n",
      "Approx 70% complete for TORN_Pool_5_S5_L008_R1_001.fastq\n",
      "Approx 75% complete for TORN_Pool_5_S5_L008_R1_001.fastq\n",
      "Approx 80% complete for TORN_Pool_5_S5_L008_R1_001.fastq\n",
      "Approx 85% complete for TORN_Pool_5_S5_L008_R1_001.fastq\n",
      "Approx 90% complete for TORN_Pool_5_S5_L008_R1_001.fastq\n",
      "Approx 95% complete for TORN_Pool_5_S5_L008_R1_001.fastq\n",
      "Analysis complete for TORN_Pool_5_S5_L008_R1_001.fastq\n",
      "Started analysis of TORN_Pool_5_S5_L008_R2_001.fastq\n",
      "Approx 5% complete for TORN_Pool_5_S5_L008_R2_001.fastq\n",
      "Approx 10% complete for TORN_Pool_5_S5_L008_R2_001.fastq\n",
      "Approx 15% complete for TORN_Pool_5_S5_L008_R2_001.fastq\n",
      "Approx 20% complete for TORN_Pool_5_S5_L008_R2_001.fastq\n",
      "Approx 25% complete for TORN_Pool_5_S5_L008_R2_001.fastq\n",
      "Approx 30% complete for TORN_Pool_5_S5_L008_R2_001.fastq\n",
      "Approx 35% complete for TORN_Pool_5_S5_L008_R2_001.fastq\n",
      "Approx 40% complete for TORN_Pool_5_S5_L008_R2_001.fastq\n",
      "Approx 45% complete for TORN_Pool_5_S5_L008_R2_001.fastq\n",
      "Approx 50% complete for TORN_Pool_5_S5_L008_R2_001.fastq\n",
      "Approx 55% complete for TORN_Pool_5_S5_L008_R2_001.fastq\n",
      "Approx 60% complete for TORN_Pool_5_S5_L008_R2_001.fastq\n",
      "Approx 65% complete for TORN_Pool_5_S5_L008_R2_001.fastq\n",
      "Approx 70% complete for TORN_Pool_5_S5_L008_R2_001.fastq\n",
      "Approx 75% complete for TORN_Pool_5_S5_L008_R2_001.fastq\n",
      "Approx 80% complete for TORN_Pool_5_S5_L008_R2_001.fastq\n",
      "Approx 85% complete for TORN_Pool_5_S5_L008_R2_001.fastq\n",
      "Approx 90% complete for TORN_Pool_5_S5_L008_R2_001.fastq\n",
      "Approx 95% complete for TORN_Pool_5_S5_L008_R2_001.fastq\n",
      "Analysis complete for TORN_Pool_5_S5_L008_R2_001.fastq\n",
      "Started analysis of TORN_Pool_6_S6_L006_R1_001.fastq\n",
      "Approx 5% complete for TORN_Pool_6_S6_L006_R1_001.fastq\n",
      "Approx 10% complete for TORN_Pool_6_S6_L006_R1_001.fastq\n",
      "Approx 15% complete for TORN_Pool_6_S6_L006_R1_001.fastq\n",
      "Approx 20% complete for TORN_Pool_6_S6_L006_R1_001.fastq\n",
      "Approx 25% complete for TORN_Pool_6_S6_L006_R1_001.fastq\n",
      "Approx 30% complete for TORN_Pool_6_S6_L006_R1_001.fastq\n",
      "Approx 35% complete for TORN_Pool_6_S6_L006_R1_001.fastq\n",
      "Approx 40% complete for TORN_Pool_6_S6_L006_R1_001.fastq\n",
      "Approx 45% complete for TORN_Pool_6_S6_L006_R1_001.fastq\n",
      "Approx 50% complete for TORN_Pool_6_S6_L006_R1_001.fastq\n",
      "Approx 55% complete for TORN_Pool_6_S6_L006_R1_001.fastq\n",
      "Approx 60% complete for TORN_Pool_6_S6_L006_R1_001.fastq\n",
      "Approx 65% complete for TORN_Pool_6_S6_L006_R1_001.fastq\n",
      "Approx 70% complete for TORN_Pool_6_S6_L006_R1_001.fastq\n",
      "Approx 75% complete for TORN_Pool_6_S6_L006_R1_001.fastq\n",
      "Approx 80% complete for TORN_Pool_6_S6_L006_R1_001.fastq\n",
      "Approx 85% complete for TORN_Pool_6_S6_L006_R1_001.fastq\n",
      "Approx 90% complete for TORN_Pool_6_S6_L006_R1_001.fastq\n",
      "Approx 95% complete for TORN_Pool_6_S6_L006_R1_001.fastq\n",
      "Analysis complete for TORN_Pool_6_S6_L006_R1_001.fastq\n",
      "Started analysis of TORN_Pool_6_S6_L006_R2_001.fastq\n",
      "Approx 5% complete for TORN_Pool_6_S6_L006_R2_001.fastq\n",
      "Approx 10% complete for TORN_Pool_6_S6_L006_R2_001.fastq\n",
      "Approx 15% complete for TORN_Pool_6_S6_L006_R2_001.fastq\n",
      "Approx 20% complete for TORN_Pool_6_S6_L006_R2_001.fastq\n",
      "Approx 25% complete for TORN_Pool_6_S6_L006_R2_001.fastq\n",
      "Approx 30% complete for TORN_Pool_6_S6_L006_R2_001.fastq\n",
      "Approx 35% complete for TORN_Pool_6_S6_L006_R2_001.fastq\n",
      "Approx 40% complete for TORN_Pool_6_S6_L006_R2_001.fastq\n",
      "Approx 45% complete for TORN_Pool_6_S6_L006_R2_001.fastq\n",
      "Approx 50% complete for TORN_Pool_6_S6_L006_R2_001.fastq\n",
      "Approx 55% complete for TORN_Pool_6_S6_L006_R2_001.fastq\n",
      "Approx 60% complete for TORN_Pool_6_S6_L006_R2_001.fastq\n",
      "Approx 65% complete for TORN_Pool_6_S6_L006_R2_001.fastq\n"
     ]
    },
    {
     "name": "stdout",
     "output_type": "stream",
     "text": [
      "Approx 70% complete for TORN_Pool_6_S6_L006_R2_001.fastq\n",
      "Approx 75% complete for TORN_Pool_6_S6_L006_R2_001.fastq\n",
      "Approx 80% complete for TORN_Pool_6_S6_L006_R2_001.fastq\n",
      "Approx 85% complete for TORN_Pool_6_S6_L006_R2_001.fastq\n",
      "Approx 90% complete for TORN_Pool_6_S6_L006_R2_001.fastq\n",
      "Approx 95% complete for TORN_Pool_6_S6_L006_R2_001.fastq\n",
      "Analysis complete for TORN_Pool_6_S6_L006_R2_001.fastq\n",
      "Started analysis of TORN_Pool_6_S6_L008_R1_001.fastq\n",
      "Approx 5% complete for TORN_Pool_6_S6_L008_R1_001.fastq\n",
      "Approx 10% complete for TORN_Pool_6_S6_L008_R1_001.fastq\n",
      "Approx 15% complete for TORN_Pool_6_S6_L008_R1_001.fastq\n",
      "Approx 20% complete for TORN_Pool_6_S6_L008_R1_001.fastq\n",
      "Approx 25% complete for TORN_Pool_6_S6_L008_R1_001.fastq\n",
      "Approx 30% complete for TORN_Pool_6_S6_L008_R1_001.fastq\n",
      "Approx 35% complete for TORN_Pool_6_S6_L008_R1_001.fastq\n",
      "Approx 40% complete for TORN_Pool_6_S6_L008_R1_001.fastq\n",
      "Approx 45% complete for TORN_Pool_6_S6_L008_R1_001.fastq\n",
      "Approx 50% complete for TORN_Pool_6_S6_L008_R1_001.fastq\n",
      "Approx 55% complete for TORN_Pool_6_S6_L008_R1_001.fastq\n",
      "Approx 60% complete for TORN_Pool_6_S6_L008_R1_001.fastq\n",
      "Approx 65% complete for TORN_Pool_6_S6_L008_R1_001.fastq\n",
      "Approx 70% complete for TORN_Pool_6_S6_L008_R1_001.fastq\n",
      "Approx 75% complete for TORN_Pool_6_S6_L008_R1_001.fastq\n",
      "Approx 80% complete for TORN_Pool_6_S6_L008_R1_001.fastq\n",
      "Approx 85% complete for TORN_Pool_6_S6_L008_R1_001.fastq\n",
      "Approx 90% complete for TORN_Pool_6_S6_L008_R1_001.fastq\n",
      "Approx 95% complete for TORN_Pool_6_S6_L008_R1_001.fastq\n",
      "Analysis complete for TORN_Pool_6_S6_L008_R1_001.fastq\n",
      "Started analysis of TORN_Pool_6_S6_L008_R2_001.fastq\n",
      "Approx 5% complete for TORN_Pool_6_S6_L008_R2_001.fastq\n",
      "Approx 10% complete for TORN_Pool_6_S6_L008_R2_001.fastq\n",
      "Approx 15% complete for TORN_Pool_6_S6_L008_R2_001.fastq\n",
      "Approx 20% complete for TORN_Pool_6_S6_L008_R2_001.fastq\n",
      "Approx 25% complete for TORN_Pool_6_S6_L008_R2_001.fastq\n",
      "Approx 30% complete for TORN_Pool_6_S6_L008_R2_001.fastq\n",
      "Approx 35% complete for TORN_Pool_6_S6_L008_R2_001.fastq\n",
      "Approx 40% complete for TORN_Pool_6_S6_L008_R2_001.fastq\n",
      "Approx 45% complete for TORN_Pool_6_S6_L008_R2_001.fastq\n",
      "Approx 50% complete for TORN_Pool_6_S6_L008_R2_001.fastq\n",
      "Approx 55% complete for TORN_Pool_6_S6_L008_R2_001.fastq\n",
      "Approx 60% complete for TORN_Pool_6_S6_L008_R2_001.fastq\n",
      "Approx 65% complete for TORN_Pool_6_S6_L008_R2_001.fastq\n",
      "Approx 70% complete for TORN_Pool_6_S6_L008_R2_001.fastq\n",
      "Approx 75% complete for TORN_Pool_6_S6_L008_R2_001.fastq\n",
      "Approx 80% complete for TORN_Pool_6_S6_L008_R2_001.fastq\n",
      "Approx 85% complete for TORN_Pool_6_S6_L008_R2_001.fastq\n",
      "Approx 90% complete for TORN_Pool_6_S6_L008_R2_001.fastq\n",
      "Approx 95% complete for TORN_Pool_6_S6_L008_R2_001.fastq\n",
      "Analysis complete for TORN_Pool_6_S6_L008_R2_001.fastq\n",
      "Started analysis of TORN_Pool_7_S7_L006_R1_001.fastq\n",
      "Approx 5% complete for TORN_Pool_7_S7_L006_R1_001.fastq\n",
      "Approx 10% complete for TORN_Pool_7_S7_L006_R1_001.fastq\n",
      "Approx 15% complete for TORN_Pool_7_S7_L006_R1_001.fastq\n",
      "Approx 20% complete for TORN_Pool_7_S7_L006_R1_001.fastq\n",
      "Approx 25% complete for TORN_Pool_7_S7_L006_R1_001.fastq\n",
      "Approx 30% complete for TORN_Pool_7_S7_L006_R1_001.fastq\n",
      "Approx 35% complete for TORN_Pool_7_S7_L006_R1_001.fastq\n",
      "Approx 40% complete for TORN_Pool_7_S7_L006_R1_001.fastq\n",
      "Approx 45% complete for TORN_Pool_7_S7_L006_R1_001.fastq\n",
      "Approx 50% complete for TORN_Pool_7_S7_L006_R1_001.fastq\n",
      "Approx 55% complete for TORN_Pool_7_S7_L006_R1_001.fastq\n",
      "Approx 60% complete for TORN_Pool_7_S7_L006_R1_001.fastq\n",
      "Approx 65% complete for TORN_Pool_7_S7_L006_R1_001.fastq\n",
      "Approx 70% complete for TORN_Pool_7_S7_L006_R1_001.fastq\n",
      "Approx 75% complete for TORN_Pool_7_S7_L006_R1_001.fastq\n",
      "Approx 80% complete for TORN_Pool_7_S7_L006_R1_001.fastq\n",
      "Approx 85% complete for TORN_Pool_7_S7_L006_R1_001.fastq\n",
      "Approx 90% complete for TORN_Pool_7_S7_L006_R1_001.fastq\n",
      "Approx 95% complete for TORN_Pool_7_S7_L006_R1_001.fastq\n",
      "Analysis complete for TORN_Pool_7_S7_L006_R1_001.fastq\n",
      "Started analysis of TORN_Pool_7_S7_L006_R2_001.fastq\n",
      "Approx 5% complete for TORN_Pool_7_S7_L006_R2_001.fastq\n",
      "Approx 10% complete for TORN_Pool_7_S7_L006_R2_001.fastq\n",
      "Approx 15% complete for TORN_Pool_7_S7_L006_R2_001.fastq\n",
      "Approx 20% complete for TORN_Pool_7_S7_L006_R2_001.fastq\n",
      "Approx 25% complete for TORN_Pool_7_S7_L006_R2_001.fastq\n",
      "Approx 30% complete for TORN_Pool_7_S7_L006_R2_001.fastq\n",
      "Approx 35% complete for TORN_Pool_7_S7_L006_R2_001.fastq\n",
      "Approx 40% complete for TORN_Pool_7_S7_L006_R2_001.fastq\n",
      "Approx 45% complete for TORN_Pool_7_S7_L006_R2_001.fastq\n",
      "Approx 50% complete for TORN_Pool_7_S7_L006_R2_001.fastq\n",
      "Approx 55% complete for TORN_Pool_7_S7_L006_R2_001.fastq\n",
      "Approx 60% complete for TORN_Pool_7_S7_L006_R2_001.fastq\n",
      "Approx 65% complete for TORN_Pool_7_S7_L006_R2_001.fastq\n",
      "Approx 70% complete for TORN_Pool_7_S7_L006_R2_001.fastq\n",
      "Approx 75% complete for TORN_Pool_7_S7_L006_R2_001.fastq\n",
      "Approx 80% complete for TORN_Pool_7_S7_L006_R2_001.fastq\n",
      "Approx 85% complete for TORN_Pool_7_S7_L006_R2_001.fastq\n",
      "Approx 90% complete for TORN_Pool_7_S7_L006_R2_001.fastq\n",
      "Approx 95% complete for TORN_Pool_7_S7_L006_R2_001.fastq\n",
      "Analysis complete for TORN_Pool_7_S7_L006_R2_001.fastq\n",
      "Started analysis of TORN_Pool_7_S7_L008_R1_001.fastq\n",
      "Approx 5% complete for TORN_Pool_7_S7_L008_R1_001.fastq\n",
      "Approx 10% complete for TORN_Pool_7_S7_L008_R1_001.fastq\n",
      "Approx 15% complete for TORN_Pool_7_S7_L008_R1_001.fastq\n",
      "Approx 20% complete for TORN_Pool_7_S7_L008_R1_001.fastq\n",
      "Approx 25% complete for TORN_Pool_7_S7_L008_R1_001.fastq\n",
      "Approx 30% complete for TORN_Pool_7_S7_L008_R1_001.fastq\n",
      "Approx 35% complete for TORN_Pool_7_S7_L008_R1_001.fastq\n",
      "Approx 40% complete for TORN_Pool_7_S7_L008_R1_001.fastq\n",
      "Approx 45% complete for TORN_Pool_7_S7_L008_R1_001.fastq\n",
      "Approx 50% complete for TORN_Pool_7_S7_L008_R1_001.fastq\n",
      "Approx 55% complete for TORN_Pool_7_S7_L008_R1_001.fastq\n",
      "Approx 60% complete for TORN_Pool_7_S7_L008_R1_001.fastq\n",
      "Approx 65% complete for TORN_Pool_7_S7_L008_R1_001.fastq\n",
      "Approx 70% complete for TORN_Pool_7_S7_L008_R1_001.fastq\n",
      "Approx 75% complete for TORN_Pool_7_S7_L008_R1_001.fastq\n",
      "Approx 80% complete for TORN_Pool_7_S7_L008_R1_001.fastq\n",
      "Approx 85% complete for TORN_Pool_7_S7_L008_R1_001.fastq\n",
      "Approx 90% complete for TORN_Pool_7_S7_L008_R1_001.fastq\n",
      "Approx 95% complete for TORN_Pool_7_S7_L008_R1_001.fastq\n",
      "Analysis complete for TORN_Pool_7_S7_L008_R1_001.fastq\n",
      "Started analysis of TORN_Pool_7_S7_L008_R2_001.fastq\n",
      "Approx 5% complete for TORN_Pool_7_S7_L008_R2_001.fastq\n",
      "Approx 10% complete for TORN_Pool_7_S7_L008_R2_001.fastq\n",
      "Approx 15% complete for TORN_Pool_7_S7_L008_R2_001.fastq\n",
      "Approx 20% complete for TORN_Pool_7_S7_L008_R2_001.fastq\n",
      "Approx 25% complete for TORN_Pool_7_S7_L008_R2_001.fastq\n",
      "Approx 30% complete for TORN_Pool_7_S7_L008_R2_001.fastq\n",
      "Approx 35% complete for TORN_Pool_7_S7_L008_R2_001.fastq\n",
      "Approx 40% complete for TORN_Pool_7_S7_L008_R2_001.fastq\n",
      "Approx 45% complete for TORN_Pool_7_S7_L008_R2_001.fastq\n",
      "Approx 50% complete for TORN_Pool_7_S7_L008_R2_001.fastq\n",
      "Approx 55% complete for TORN_Pool_7_S7_L008_R2_001.fastq\n",
      "Approx 60% complete for TORN_Pool_7_S7_L008_R2_001.fastq\n",
      "Approx 65% complete for TORN_Pool_7_S7_L008_R2_001.fastq\n",
      "Approx 70% complete for TORN_Pool_7_S7_L008_R2_001.fastq\n",
      "Approx 75% complete for TORN_Pool_7_S7_L008_R2_001.fastq\n",
      "Approx 80% complete for TORN_Pool_7_S7_L008_R2_001.fastq\n",
      "Approx 85% complete for TORN_Pool_7_S7_L008_R2_001.fastq\n",
      "Approx 90% complete for TORN_Pool_7_S7_L008_R2_001.fastq\n",
      "Approx 95% complete for TORN_Pool_7_S7_L008_R2_001.fastq\n",
      "Analysis complete for TORN_Pool_7_S7_L008_R2_001.fastq\n",
      "Started analysis of TORN_Pool_8_S8_L006_R1_001.fastq\n",
      "Approx 5% complete for TORN_Pool_8_S8_L006_R1_001.fastq\n",
      "Approx 10% complete for TORN_Pool_8_S8_L006_R1_001.fastq\n",
      "Approx 15% complete for TORN_Pool_8_S8_L006_R1_001.fastq\n",
      "Approx 20% complete for TORN_Pool_8_S8_L006_R1_001.fastq\n",
      "Approx 25% complete for TORN_Pool_8_S8_L006_R1_001.fastq\n",
      "Approx 30% complete for TORN_Pool_8_S8_L006_R1_001.fastq\n",
      "Approx 35% complete for TORN_Pool_8_S8_L006_R1_001.fastq\n",
      "Approx 40% complete for TORN_Pool_8_S8_L006_R1_001.fastq\n",
      "Approx 45% complete for TORN_Pool_8_S8_L006_R1_001.fastq\n",
      "Approx 50% complete for TORN_Pool_8_S8_L006_R1_001.fastq\n",
      "Approx 55% complete for TORN_Pool_8_S8_L006_R1_001.fastq\n"
     ]
    },
    {
     "name": "stdout",
     "output_type": "stream",
     "text": [
      "Approx 60% complete for TORN_Pool_8_S8_L006_R1_001.fastq\n",
      "Approx 65% complete for TORN_Pool_8_S8_L006_R1_001.fastq\n",
      "Approx 70% complete for TORN_Pool_8_S8_L006_R1_001.fastq\n",
      "Approx 75% complete for TORN_Pool_8_S8_L006_R1_001.fastq\n",
      "Approx 80% complete for TORN_Pool_8_S8_L006_R1_001.fastq\n",
      "Approx 85% complete for TORN_Pool_8_S8_L006_R1_001.fastq\n",
      "Approx 90% complete for TORN_Pool_8_S8_L006_R1_001.fastq\n",
      "Approx 95% complete for TORN_Pool_8_S8_L006_R1_001.fastq\n",
      "Analysis complete for TORN_Pool_8_S8_L006_R1_001.fastq\n",
      "Started analysis of TORN_Pool_8_S8_L006_R2_001.fastq\n",
      "Approx 5% complete for TORN_Pool_8_S8_L006_R2_001.fastq\n",
      "Approx 10% complete for TORN_Pool_8_S8_L006_R2_001.fastq\n",
      "Approx 15% complete for TORN_Pool_8_S8_L006_R2_001.fastq\n",
      "Approx 20% complete for TORN_Pool_8_S8_L006_R2_001.fastq\n",
      "Approx 25% complete for TORN_Pool_8_S8_L006_R2_001.fastq\n",
      "Approx 30% complete for TORN_Pool_8_S8_L006_R2_001.fastq\n",
      "Approx 35% complete for TORN_Pool_8_S8_L006_R2_001.fastq\n",
      "Approx 40% complete for TORN_Pool_8_S8_L006_R2_001.fastq\n",
      "Approx 45% complete for TORN_Pool_8_S8_L006_R2_001.fastq\n",
      "Approx 50% complete for TORN_Pool_8_S8_L006_R2_001.fastq\n",
      "Approx 55% complete for TORN_Pool_8_S8_L006_R2_001.fastq\n",
      "Approx 60% complete for TORN_Pool_8_S8_L006_R2_001.fastq\n",
      "Approx 65% complete for TORN_Pool_8_S8_L006_R2_001.fastq\n",
      "Approx 70% complete for TORN_Pool_8_S8_L006_R2_001.fastq\n",
      "Approx 75% complete for TORN_Pool_8_S8_L006_R2_001.fastq\n",
      "Approx 80% complete for TORN_Pool_8_S8_L006_R2_001.fastq\n",
      "Approx 85% complete for TORN_Pool_8_S8_L006_R2_001.fastq\n",
      "Approx 90% complete for TORN_Pool_8_S8_L006_R2_001.fastq\n",
      "Approx 95% complete for TORN_Pool_8_S8_L006_R2_001.fastq\n",
      "Analysis complete for TORN_Pool_8_S8_L006_R2_001.fastq\n",
      "Started analysis of TORN_Pool_8_S8_L008_R1_001.fastq\n",
      "Approx 5% complete for TORN_Pool_8_S8_L008_R1_001.fastq\n",
      "Approx 10% complete for TORN_Pool_8_S8_L008_R1_001.fastq\n",
      "Approx 15% complete for TORN_Pool_8_S8_L008_R1_001.fastq\n",
      "Approx 20% complete for TORN_Pool_8_S8_L008_R1_001.fastq\n",
      "Approx 25% complete for TORN_Pool_8_S8_L008_R1_001.fastq\n",
      "Approx 30% complete for TORN_Pool_8_S8_L008_R1_001.fastq\n",
      "Approx 35% complete for TORN_Pool_8_S8_L008_R1_001.fastq\n",
      "Approx 40% complete for TORN_Pool_8_S8_L008_R1_001.fastq\n",
      "Approx 45% complete for TORN_Pool_8_S8_L008_R1_001.fastq\n",
      "Approx 50% complete for TORN_Pool_8_S8_L008_R1_001.fastq\n",
      "Approx 55% complete for TORN_Pool_8_S8_L008_R1_001.fastq\n",
      "Approx 60% complete for TORN_Pool_8_S8_L008_R1_001.fastq\n",
      "Approx 65% complete for TORN_Pool_8_S8_L008_R1_001.fastq\n",
      "Approx 70% complete for TORN_Pool_8_S8_L008_R1_001.fastq\n",
      "Approx 75% complete for TORN_Pool_8_S8_L008_R1_001.fastq\n",
      "Approx 80% complete for TORN_Pool_8_S8_L008_R1_001.fastq\n",
      "Approx 85% complete for TORN_Pool_8_S8_L008_R1_001.fastq\n",
      "Approx 90% complete for TORN_Pool_8_S8_L008_R1_001.fastq\n",
      "Approx 95% complete for TORN_Pool_8_S8_L008_R1_001.fastq\n",
      "Analysis complete for TORN_Pool_8_S8_L008_R1_001.fastq\n",
      "Started analysis of TORN_Pool_8_S8_L008_R2_001.fastq\n",
      "Approx 5% complete for TORN_Pool_8_S8_L008_R2_001.fastq\n",
      "Approx 10% complete for TORN_Pool_8_S8_L008_R2_001.fastq\n",
      "Approx 15% complete for TORN_Pool_8_S8_L008_R2_001.fastq\n",
      "Approx 20% complete for TORN_Pool_8_S8_L008_R2_001.fastq\n",
      "Approx 25% complete for TORN_Pool_8_S8_L008_R2_001.fastq\n",
      "Approx 30% complete for TORN_Pool_8_S8_L008_R2_001.fastq\n",
      "Approx 35% complete for TORN_Pool_8_S8_L008_R2_001.fastq\n",
      "Approx 40% complete for TORN_Pool_8_S8_L008_R2_001.fastq\n",
      "Approx 45% complete for TORN_Pool_8_S8_L008_R2_001.fastq\n",
      "Approx 50% complete for TORN_Pool_8_S8_L008_R2_001.fastq\n",
      "Approx 55% complete for TORN_Pool_8_S8_L008_R2_001.fastq\n",
      "Approx 60% complete for TORN_Pool_8_S8_L008_R2_001.fastq\n",
      "Approx 65% complete for TORN_Pool_8_S8_L008_R2_001.fastq\n",
      "Approx 70% complete for TORN_Pool_8_S8_L008_R2_001.fastq\n",
      "Approx 75% complete for TORN_Pool_8_S8_L008_R2_001.fastq\n",
      "Approx 80% complete for TORN_Pool_8_S8_L008_R2_001.fastq\n",
      "Approx 85% complete for TORN_Pool_8_S8_L008_R2_001.fastq\n",
      "Approx 90% complete for TORN_Pool_8_S8_L008_R2_001.fastq\n",
      "Approx 95% complete for TORN_Pool_8_S8_L008_R2_001.fastq\n",
      "Analysis complete for TORN_Pool_8_S8_L008_R2_001.fastq\n",
      "Started analysis of TORN_Pool_9_S9_L006_R1_001.fastq\n",
      "Approx 5% complete for TORN_Pool_9_S9_L006_R1_001.fastq\n",
      "Approx 10% complete for TORN_Pool_9_S9_L006_R1_001.fastq\n",
      "Approx 15% complete for TORN_Pool_9_S9_L006_R1_001.fastq\n",
      "Approx 20% complete for TORN_Pool_9_S9_L006_R1_001.fastq\n",
      "Approx 25% complete for TORN_Pool_9_S9_L006_R1_001.fastq\n",
      "Approx 30% complete for TORN_Pool_9_S9_L006_R1_001.fastq\n",
      "Approx 35% complete for TORN_Pool_9_S9_L006_R1_001.fastq\n",
      "Approx 40% complete for TORN_Pool_9_S9_L006_R1_001.fastq\n",
      "Approx 45% complete for TORN_Pool_9_S9_L006_R1_001.fastq\n",
      "Approx 50% complete for TORN_Pool_9_S9_L006_R1_001.fastq\n",
      "Approx 55% complete for TORN_Pool_9_S9_L006_R1_001.fastq\n",
      "Approx 60% complete for TORN_Pool_9_S9_L006_R1_001.fastq\n",
      "Approx 65% complete for TORN_Pool_9_S9_L006_R1_001.fastq\n",
      "Approx 70% complete for TORN_Pool_9_S9_L006_R1_001.fastq\n",
      "Approx 75% complete for TORN_Pool_9_S9_L006_R1_001.fastq\n",
      "Approx 80% complete for TORN_Pool_9_S9_L006_R1_001.fastq\n",
      "Approx 85% complete for TORN_Pool_9_S9_L006_R1_001.fastq\n",
      "Approx 90% complete for TORN_Pool_9_S9_L006_R1_001.fastq\n",
      "Approx 95% complete for TORN_Pool_9_S9_L006_R1_001.fastq\n",
      "Analysis complete for TORN_Pool_9_S9_L006_R1_001.fastq\n",
      "Started analysis of TORN_Pool_9_S9_L006_R2_001.fastq\n",
      "Approx 5% complete for TORN_Pool_9_S9_L006_R2_001.fastq\n",
      "Approx 10% complete for TORN_Pool_9_S9_L006_R2_001.fastq\n",
      "Approx 15% complete for TORN_Pool_9_S9_L006_R2_001.fastq\n",
      "Approx 20% complete for TORN_Pool_9_S9_L006_R2_001.fastq\n",
      "Approx 25% complete for TORN_Pool_9_S9_L006_R2_001.fastq\n",
      "Approx 30% complete for TORN_Pool_9_S9_L006_R2_001.fastq\n",
      "Approx 35% complete for TORN_Pool_9_S9_L006_R2_001.fastq\n",
      "Approx 40% complete for TORN_Pool_9_S9_L006_R2_001.fastq\n",
      "Approx 45% complete for TORN_Pool_9_S9_L006_R2_001.fastq\n",
      "Approx 50% complete for TORN_Pool_9_S9_L006_R2_001.fastq\n",
      "Approx 55% complete for TORN_Pool_9_S9_L006_R2_001.fastq\n",
      "Approx 60% complete for TORN_Pool_9_S9_L006_R2_001.fastq\n",
      "Approx 65% complete for TORN_Pool_9_S9_L006_R2_001.fastq\n",
      "Approx 70% complete for TORN_Pool_9_S9_L006_R2_001.fastq\n",
      "Approx 75% complete for TORN_Pool_9_S9_L006_R2_001.fastq\n",
      "Approx 80% complete for TORN_Pool_9_S9_L006_R2_001.fastq\n",
      "Approx 85% complete for TORN_Pool_9_S9_L006_R2_001.fastq\n",
      "Approx 90% complete for TORN_Pool_9_S9_L006_R2_001.fastq\n",
      "Approx 95% complete for TORN_Pool_9_S9_L006_R2_001.fastq\n",
      "Analysis complete for TORN_Pool_9_S9_L006_R2_001.fastq\n",
      "Started analysis of TORN_Pool_9_S9_L008_R1_001.fastq\n",
      "Approx 5% complete for TORN_Pool_9_S9_L008_R1_001.fastq\n",
      "Approx 10% complete for TORN_Pool_9_S9_L008_R1_001.fastq\n",
      "Approx 15% complete for TORN_Pool_9_S9_L008_R1_001.fastq\n",
      "Approx 20% complete for TORN_Pool_9_S9_L008_R1_001.fastq\n",
      "Approx 25% complete for TORN_Pool_9_S9_L008_R1_001.fastq\n",
      "Approx 30% complete for TORN_Pool_9_S9_L008_R1_001.fastq\n",
      "Approx 35% complete for TORN_Pool_9_S9_L008_R1_001.fastq\n",
      "Approx 40% complete for TORN_Pool_9_S9_L008_R1_001.fastq\n",
      "Approx 45% complete for TORN_Pool_9_S9_L008_R1_001.fastq\n",
      "Approx 50% complete for TORN_Pool_9_S9_L008_R1_001.fastq\n",
      "Approx 55% complete for TORN_Pool_9_S9_L008_R1_001.fastq\n",
      "Approx 60% complete for TORN_Pool_9_S9_L008_R1_001.fastq\n",
      "Approx 65% complete for TORN_Pool_9_S9_L008_R1_001.fastq\n",
      "Approx 70% complete for TORN_Pool_9_S9_L008_R1_001.fastq\n",
      "Approx 75% complete for TORN_Pool_9_S9_L008_R1_001.fastq\n",
      "Approx 80% complete for TORN_Pool_9_S9_L008_R1_001.fastq\n",
      "Approx 85% complete for TORN_Pool_9_S9_L008_R1_001.fastq\n",
      "Approx 90% complete for TORN_Pool_9_S9_L008_R1_001.fastq\n",
      "Approx 95% complete for TORN_Pool_9_S9_L008_R1_001.fastq\n",
      "Analysis complete for TORN_Pool_9_S9_L008_R1_001.fastq\n",
      "Started analysis of TORN_Pool_9_S9_L008_R2_001.fastq\n",
      "Approx 5% complete for TORN_Pool_9_S9_L008_R2_001.fastq\n",
      "Approx 10% complete for TORN_Pool_9_S9_L008_R2_001.fastq\n",
      "Approx 15% complete for TORN_Pool_9_S9_L008_R2_001.fastq\n",
      "Approx 20% complete for TORN_Pool_9_S9_L008_R2_001.fastq\n",
      "Approx 25% complete for TORN_Pool_9_S9_L008_R2_001.fastq\n",
      "Approx 30% complete for TORN_Pool_9_S9_L008_R2_001.fastq\n",
      "Approx 35% complete for TORN_Pool_9_S9_L008_R2_001.fastq\n",
      "Approx 40% complete for TORN_Pool_9_S9_L008_R2_001.fastq\n",
      "Approx 45% complete for TORN_Pool_9_S9_L008_R2_001.fastq\n"
     ]
    },
    {
     "name": "stdout",
     "output_type": "stream",
     "text": [
      "Approx 50% complete for TORN_Pool_9_S9_L008_R2_001.fastq\n",
      "Approx 55% complete for TORN_Pool_9_S9_L008_R2_001.fastq\n",
      "Approx 60% complete for TORN_Pool_9_S9_L008_R2_001.fastq\n",
      "Approx 65% complete for TORN_Pool_9_S9_L008_R2_001.fastq\n",
      "Approx 70% complete for TORN_Pool_9_S9_L008_R2_001.fastq\n",
      "Approx 75% complete for TORN_Pool_9_S9_L008_R2_001.fastq\n",
      "Approx 80% complete for TORN_Pool_9_S9_L008_R2_001.fastq\n",
      "Approx 85% complete for TORN_Pool_9_S9_L008_R2_001.fastq\n",
      "Approx 90% complete for TORN_Pool_9_S9_L008_R2_001.fastq\n",
      "Approx 95% complete for TORN_Pool_9_S9_L008_R2_001.fastq\n",
      "Analysis complete for TORN_Pool_9_S9_L008_R2_001.fastq\n"
     ]
    }
   ],
   "source": [
    "!{biotools}FastQC/fastqc \\\n",
    "{project}data/*.fastq \\\n",
    "-o {project}analysis/fastqc"
   ]
  },
  {
   "cell_type": "markdown",
   "metadata": {},
   "source": [
    "Produces an html file which you can open in a browser."
   ]
  },
  {
   "cell_type": "markdown",
   "metadata": {},
   "source": [
    "### Download Trim-Galore v0.5.0\n",
    "\n",
    "Link: https://github.com/FelixKrueger/TrimGalore/archive/0.5.0.zip"
   ]
  },
  {
   "cell_type": "code",
   "execution_count": 42,
   "metadata": {},
   "outputs": [
    {
     "name": "stdout",
     "output_type": "stream",
     "text": [
      "  % Total    % Received % Xferd  Average Speed   Time    Time     Time  Current\n",
      "                                 Dload  Upload   Total   Spent    Left  Speed\n",
      "100   127    0   127    0     0    671      0 --:--:-- --:--:-- --:--:--   671\n"
     ]
    }
   ],
   "source": [
    "!curl -O https://github.com/FelixKrueger/TrimGalore/archive/0.5.0.zip > {biotools}TrimGalore-0.5.0.zip"
   ]
  },
  {
   "cell_type": "markdown",
   "metadata": {},
   "source": [
    "Note: For some reason this didn't work. It turned into a 127 byte .zip file (should be 25.9 MB) that when unzipped turned into a .cpgz file, which unzips back into a .zip (zip cpgz loop). We can check this using md5 or sha1, but I'm not sure how to run on original file, and I tried downloading it using Safari and that seemed to work."
   ]
  },
  {
   "cell_type": "code",
   "execution_count": 19,
   "metadata": {},
   "outputs": [
    {
     "name": "stdout",
     "output_type": "stream",
     "text": [
      "Archive:  /Users/calderatta/Desktop/FISH 546 - Bioinformatics/project/cutadapt/TrimGalore-0.5.0.zip\r\n",
      "  End-of-central-directory signature not found.  Either this file is not\r\n",
      "  a zipfile, or it constitutes one disk of a multi-part archive.  In the\r\n",
      "  latter case the central directory and zipfile comment will be found on\r\n",
      "  the last disk(s) of this archive.\r\n",
      "unzip:  cannot find zipfile directory in one of /Users/calderatta/Desktop/FISH 546 - Bioinformatics/project/cutadapt/TrimGalore-0.5.0.zip or\r\n",
      "        /Users/calderatta/Desktop/FISH 546 - Bioinformatics/project/cutadapt/TrimGalore-0.5.0.zip.zip, and cannot find /Users/calderatta/Desktop/FISH 546 - Bioinformatics/project/cutadapt/TrimGalore-0.5.0.zip.ZIP, period.\r\n"
     ]
    }
   ],
   "source": [
    "!unzip {biotools}TrimGalore-0.5.0.zip -d {biotools}TrimGalore-0.5.0"
   ]
  },
  {
   "cell_type": "code",
   "execution_count": 44,
   "metadata": {},
   "outputs": [
    {
     "name": "stdout",
     "output_type": "stream",
     "text": [
      "da39a3ee5e6b4b0d3255bfef95601890afd80709  /Users/calderatta/Desktop/FISH 546 - Bioinformatics/project/cutadapt/TrimGalore-0.5.0.zip\r\n"
     ]
    }
   ],
   "source": [
    "!shasum {biotools}TrimGalore-0.5.0.zip"
   ]
  },
  {
   "cell_type": "markdown",
   "metadata": {},
   "source": [
    "Now trying with sickle and seqtk."
   ]
  },
  {
   "cell_type": "code",
   "execution_count": 15,
   "metadata": {},
   "outputs": [
    {
     "name": "stdout",
     "output_type": "stream",
     "text": [
      "\u001b[33mWarning:\u001b[0m seqtk 1.3 is already installed and up-to-date\r\n",
      "To reinstall 1.3, run `brew reinstall seqtk`\r\n"
     ]
    }
   ],
   "source": [
    "!brew install seqtk"
   ]
  },
  {
   "cell_type": "code",
   "execution_count": 16,
   "metadata": {},
   "outputs": [
    {
     "name": "stdout",
     "output_type": "stream",
     "text": [
      "\u001b[33mWarning:\u001b[0m sickle 1.33 is already installed and up-to-date\r\n",
      "To reinstall 1.33, run `brew reinstall sickle`\r\n"
     ]
    }
   ],
   "source": [
    "!brew install sickle"
   ]
  },
  {
   "cell_type": "code",
   "execution_count": 11,
   "metadata": {},
   "outputs": [
    {
     "name": "stdout",
     "output_type": "stream",
     "text": [
      "\r\n",
      "FastQ records kept: 203121\r\n",
      "FastQ records discarded: 1234\r\n",
      "\r\n"
     ]
    }
   ],
   "source": [
    "!sickle se -f /Users/calderatta/Desktop/FISH\\ 546\\ -\\ Bioinformatics/week-3/untreated1_chr4.fq.rtf -t sanger -o /Users/calderatta/Desktop/FISH\\ 546\\ -\\ Bioinformatics/week-3/untreated1_chr4_sickle.fq"
   ]
  },
  {
   "cell_type": "code",
   "execution_count": 10,
   "metadata": {},
   "outputs": [
    {
     "name": "stdout",
     "output_type": "stream",
     "text": [
      "{\\rtf1\\ansi\\ansicpg1252\\cocoartf1561\\cocoasubrtf600\r\n",
      "{\\fonttbl\\f0\\fmodern\\fcharset0 Courier;}\r\n",
      "{\\colortbl;\\red255\\green255\\blue255;\\red0\\green0\\blue0;}\r\n",
      "{\\*\\expandedcolortbl;;\\cssrgb\\c0\\c0\\c0;}\r\n",
      "\\margl1440\\margr1440\\vieww21720\\viewh13500\\viewkind0\r\n",
      "\\deftab720\r\n",
      "\\pard\\pardeftab720\\partightenfactor0\r\n",
      "\r\n",
      "\\f0\\fs26 \\cf0 \\expnd0\\expndtw0\\kerning0\r\n",
      "@SRR031729.3941844\\\r\n",
      "GGACAACCTAGCCAGGAAAGGGGCAGGGAACCCTCTAATTGGGCCCGAACCATTCTGTGGTGTTGGTCACCACAG\\\r\n",
      "+\\\r\n",
      "BC?BABABBA@BCBAC>A<4+?BA><B=@?AB@B@A>?BB=B.?7?>1;<??=@A8?8=B8B>?B@46==8863<\\\r\n",
      "@SRR031728.3674563\\\r\n",
      "CAACAACAGCCCAGGAAATGAGCTAGCGGACAACCTAGCCAGGAAAGGGGCAGGGAACCCTCTAATTGGGCCCGA\\\r\n",
      "+\\\r\n",
      "BBB>B@?B=A4?)ABBABA:?B??CBB@B@?BB;?9A>A4AA=??>?:A=<?7?=??1<67445<55?6<667??\\\r\n",
      "@SRR031729.8532600\\\r\n",
      "CCCAATTAGAGGATTCTCTGCCCCTTTCCTGGCTAGGTTGTCCGGTAGCTCATTTCCCGGGATGTTGTTGTGTCC\\\r\n",
      "+\\\r\n"
     ]
    }
   ],
   "source": [
    "!head -n 20 /Users/calderatta/Desktop/FISH\\ 546\\ -\\ Bioinformatics/week-3/untreated1_chr4.fq.rtf"
   ]
  },
  {
   "cell_type": "code",
   "execution_count": 12,
   "metadata": {},
   "outputs": [
    {
     "name": "stdout",
     "output_type": "stream",
     "text": [
      "@SRR031729.3941844\\\r\n",
      "GGACAACCTAGCCAGGAAAGGGGCAGGGAACCCTCTAATTGGGCCCGAACCATTCTGTGGTGTTGGTCACCACAG\\\r\n",
      "+\r\n",
      "BC?BABABBA@BCBAC>A<4+?BA><B=@?AB@B@A>?BB=B.?7?>1;<??=@A8?8=B8B>?B@46==8863<\\\r\n",
      "@SRR031728.3674563\\\r\n",
      "CAACAACAGCCCAGGAAATGAGCTAGCGGACAACCTAGCCAGGAAAGGGGCAGGGAACCCTCTAATTGGGCCCGA\\\r\n",
      "+\r\n",
      "BBB>B@?B=A4?)ABBABA:?B??CBB@B@?BB;?9A>A4AA=??>?:A=<?7?=??1<67445<55?6<667??\\\r\n",
      "@SRR031729.8532600\\\r\n",
      "CCCAATTAGAGGATTCTCTGCCCCTTTCCTGGCTAGGTTGTCCGGTAGCTCATTTCCCGGGATGTTGTTGTGTCC\\\r\n",
      "+\r\n",
      "BBBBACCBCBCBCBBBABBBBBBBBBBBBA@BBA4(:3BB=CAA;8?=@??0?B=B@<+7@1<>2><3A38'78<\\\r\n",
      "@SRR031729.2779333\\\r\n",
      "GTTCTCTGCCCCTTTCCTGGCTAGGTTGTCCGCTAGCTCATTTCCCGAGATG\r\n",
      "+\r\n",
      "B??AAA@B@AA@@?@AA=A@?=?AB7;@8??:<66?7<5044:6?=?6@66;\r\n",
      "@SRR031728.2826481\\\r\n",
      "TTCCTGGCTAGGTTGTCCGCTAGCTCATTTCCCGGGCTGTTGTTGTGTCCCGGGACACACCTTATTGTGAGTTTG\\\r\n",
      "+\r\n",
      "B>CBBCCCB>CC@BBABBBB?;?BAB<ABABBCBCCCBB<@B?=8;9;BCBACB9>>@0AB@=5:??6B=B<==?\\\r\n"
     ]
    }
   ],
   "source": [
    "!head -n 20 /Users/calderatta/Desktop/FISH\\ 546\\ -\\ Bioinformatics/week-3/untreated1_chr4_sickle.fq"
   ]
  },
  {
   "cell_type": "code",
   "execution_count": 32,
   "metadata": {},
   "outputs": [
    {
     "ename": "SyntaxError",
     "evalue": "positional argument follows keyword argument (<ipython-input-32-8eb21be631a4>, line 2)",
     "output_type": "error",
     "traceback": [
      "\u001b[0;36m  File \u001b[0;32m\"<ipython-input-32-8eb21be631a4>\"\u001b[0;36m, line \u001b[0;32m2\u001b[0m\n\u001b[0;31m    ggplot(data=iris, aes(x=Sepal.Length, y=Sepal.Width, color=Species)) + geom_point(size=3)\u001b[0m\n\u001b[0m                     ^\u001b[0m\n\u001b[0;31mSyntaxError\u001b[0m\u001b[0;31m:\u001b[0m positional argument follows keyword argument\n"
     ]
    }
   ],
   "source": [
    "for i in *_L001_R1_001.fastq; do cat\n",
    "{i%_L001_R1_001.fastq}_L001_R1_001.fastq\n",
    "{i%_L001_R1_001.fastq}_L002_R1_001.fastq > {i%_L001_R1_001.fastq}_R1.fastq; done\n",
    "   \n",
    "for i in *_L001_R2_001.fastq; do cat\n",
    "{i%_L001_R2_001.fastq}_L001_R2_001.fastq\n",
    "{i%_L001_R2_001.fastq}_L002_R2_001.fastq >{i%_L001_R2_001.fastq}_R2.fastq; done)"
   ]
  },
  {
   "cell_type": "code",
   "execution_count": null,
   "metadata": {},
   "outputs": [],
   "source": [
    "%%bash\n",
    "for f in /where/your/files/r/*fq\n",
    "do\n",
    "awk '{s++}END{print s/4}' $f\n",
    "done"
   ]
  }
 ],
 "metadata": {
  "kernelspec": {
   "display_name": "Python 3",
   "language": "python",
   "name": "python3"
  },
  "language_info": {
   "codemirror_mode": {
    "name": "ipython",
    "version": 3
   },
   "file_extension": ".py",
   "mimetype": "text/x-python",
   "name": "python",
   "nbconvert_exporter": "python",
   "pygments_lexer": "ipython3",
   "version": "3.7.0"
  }
 },
 "nbformat": 4,
 "nbformat_minor": 2
}
