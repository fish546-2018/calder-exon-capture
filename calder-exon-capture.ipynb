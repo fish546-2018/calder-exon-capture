{
 "cells": [
  {
   "cell_type": "markdown",
   "metadata": {},
   "source": [
    "# Exon-capture to Phylogeny Project\n",
    "\n",
    "Calder Atta - FISH 546 Project"
   ]
  },
  {
   "cell_type": "markdown",
   "metadata": {},
   "source": [
    "## Workflow (from Kuang et al. 2018)\n",
    "\n",
    "1. Raw reads from Illumina sequencer\n",
    "2. BCL to fastq format demultiplex (Illumina bcl2fastq package)\n",
    "3. Remove adapter sequences and low quality score reads (Cutadapt 1.1 Trim_golare v0.2.8)\n",
    "4. Remove the duplicates from PCR, parse the reads to each locus (A custom perl script: preads (supplementary))\n",
    "5. Assemble the filtered reads into contigs (Trinity v20140717)\n",
    "6. Merge the loci containing more than one contigs (Geneious v7.1.5)\n",
    "7. Retrieve orthology by pairwise alignment to corresponding baits sequence (A custom Perl script: Smith-Waterman algorithm)\n",
    "8. Identify orthology by comparing the retrieved sequence to the genome of O. nilotics (Blast v2.2.27)\n",
    "9. Multiple sequences alignment (Clustal Omega v1.1.1)\n",
    "10. Downstream analysis"
   ]
  },
  {
   "cell_type": "markdown",
   "metadata": {},
   "source": [
    "## Notes from Kuang et al. 2018\n",
    "\n",
    "- Samples and Genes\n",
    "\t- Sampled 43 species\n",
    "\t- 1 mt markers (COI)\n",
    "\t- 17817 nu markers (120bp baits)\n",
    "\t\t- target region <120bp was padded with T to 120bp\n",
    "- Filtering\n",
    "\t- only used sequences found in all species and <5% missing data -> 570 markers\n",
    "\t- parameters for evaluating usefulness (calculated for all markers)\n",
    "\t\t1. Average pairwise difference (p-dist)\n",
    "\t\t2. Molecular clocklikeness (MCL)"
   ]
  },
  {
   "cell_type": "markdown",
   "metadata": {},
   "source": [
    "## Getting started\n",
    "Store project directory inside a variable."
   ]
  },
  {
   "cell_type": "code",
   "execution_count": 8,
   "metadata": {},
   "outputs": [],
   "source": [
    "project = \"/Users/calderatta/Desktop/FISH\\ 546\\ -\\ Bioinformatics/project/\""
   ]
  },
  {
   "cell_type": "markdown",
   "metadata": {},
   "source": [
    "Examine raw data."
   ]
  },
  {
   "cell_type": "code",
   "execution_count": 9,
   "metadata": {},
   "outputs": [
    {
     "name": "stdout",
     "output_type": "stream",
     "text": [
      "\u001b[31mTORN_Pool_10_S10_L006_R1_001.fastq\u001b[m\u001b[m* \u001b[31mTORN_Pool_6_S6_L008_R1_001.fastq\u001b[m\u001b[m*\r\n",
      "\u001b[31mTORN_Pool_10_S10_L006_R2_001.fastq\u001b[m\u001b[m* \u001b[31mTORN_Pool_6_S6_L008_R2_001.fastq\u001b[m\u001b[m*\r\n",
      "\u001b[31mTORN_Pool_10_S10_L008_R1_001.fastq\u001b[m\u001b[m* \u001b[31mTORN_Pool_7_S7_L006_R1_001.fastq\u001b[m\u001b[m*\r\n",
      "\u001b[31mTORN_Pool_10_S10_L008_R2_001.fastq\u001b[m\u001b[m* \u001b[31mTORN_Pool_7_S7_L006_R2_001.fastq\u001b[m\u001b[m*\r\n",
      "\u001b[31mTORN_Pool_4_S4_L006_R1_001.fastq\u001b[m\u001b[m*   \u001b[31mTORN_Pool_7_S7_L008_R1_001.fastq\u001b[m\u001b[m*\r\n",
      "\u001b[31mTORN_Pool_4_S4_L006_R2_001.fastq\u001b[m\u001b[m*   \u001b[31mTORN_Pool_7_S7_L008_R2_001.fastq\u001b[m\u001b[m*\r\n",
      "\u001b[31mTORN_Pool_4_S4_L008_R1_001.fastq\u001b[m\u001b[m*   \u001b[31mTORN_Pool_8_S8_L006_R1_001.fastq\u001b[m\u001b[m*\r\n",
      "\u001b[31mTORN_Pool_4_S4_L008_R2_001.fastq\u001b[m\u001b[m*   \u001b[31mTORN_Pool_8_S8_L006_R2_001.fastq\u001b[m\u001b[m*\r\n",
      "\u001b[31mTORN_Pool_5_S5_L006_R1_001.fastq\u001b[m\u001b[m*   \u001b[31mTORN_Pool_8_S8_L008_R1_001.fastq\u001b[m\u001b[m*\r\n",
      "\u001b[31mTORN_Pool_5_S5_L006_R2_001.fastq\u001b[m\u001b[m*   \u001b[31mTORN_Pool_8_S8_L008_R2_001.fastq\u001b[m\u001b[m*\r\n",
      "\u001b[31mTORN_Pool_5_S5_L008_R1_001.fastq\u001b[m\u001b[m*   \u001b[31mTORN_Pool_9_S9_L006_R1_001.fastq\u001b[m\u001b[m*\r\n",
      "\u001b[31mTORN_Pool_5_S5_L008_R2_001.fastq\u001b[m\u001b[m*   \u001b[31mTORN_Pool_9_S9_L006_R2_001.fastq\u001b[m\u001b[m*\r\n",
      "\u001b[31mTORN_Pool_6_S6_L006_R1_001.fastq\u001b[m\u001b[m*   \u001b[31mTORN_Pool_9_S9_L008_R1_001.fastq\u001b[m\u001b[m*\r\n",
      "\u001b[31mTORN_Pool_6_S6_L006_R2_001.fastq\u001b[m\u001b[m*   \u001b[31mTORN_Pool_9_S9_L008_R2_001.fastq\u001b[m\u001b[m*\r\n"
     ]
    }
   ],
   "source": [
    "ls {project}raw"
   ]
  },
  {
   "cell_type": "markdown",
   "metadata": {},
   "source": [
    "Species 4 through 10 should be listed. For each species there are forward (R1) and reverse (R2) reads for each Illumina lane (L00#). Within each forward/reverse file pairs, the order of sequences is consistent."
   ]
  },
  {
   "cell_type": "code",
   "execution_count": 10,
   "metadata": {},
   "outputs": [
    {
     "name": "stdout",
     "output_type": "stream",
     "text": [
      "@K00179:70:HHV7JBBXX:6:1101:24454:1209 1:N:0:AACGAAGT\r\n",
      "TNTCTCTCTCTCTTGCTCTCTCTCTCTCTGTTTGAGCTCTCTCTCCCTCTCTCTCTCTCTCTGTCTCTCTCTGTTTGAGCTAACTCTCTCTCTCTGTTAGAGCTCTCTCTCGNTCGCTCTCTCTCGCTNTCGCTGGCTCGCACGCTCTCT\r\n",
      "+\r\n",
      "A#AAAFFFJJJFJFAJFJ-FFFAJFJ-FJ-AA<--7<-7FA7F<A--77A-7A-<777A-<F--A-<FF7F<-----777777F777A-77AF<---7A-----)-7-7-7)#--7--<)F<--7)-)#7A-77)--)7)))7)7)))--\r\n",
      "@K00179:70:HHV7JBBXX:6:1101:26829:1209 1:N:0:AACGAAGT\r\n",
      "CNCTTTCCTTCAGGAGAGACTCTGTCAGGAGGTGCAGGAGGAACAAAAGGAGCAAGAGGAGGAGGATCTGAAGGAGGGATGAGGTGTTGCAGGACGATGAACAGGAGGGGGAGCATGAGGAGGAGCAGGAGTAGGTGGAGCATAAGGAGG\r\n",
      "+\r\n",
      "A#AAFFJFFJJJJJJAFJJJAJFJ<JAAJJJJAJJJ7FFF<AJJFAJFFJ<AFJJF<AJJJFFJA77F7A--F-AAFF-7FJJJAF7FJ<AAFFJJ77AF7<<A<AJF))-))-)-77A<-<7AJF)<7)7-7-7<F-))7)---7--7)\r\n",
      "@K00179:70:HHV7JBBXX:6:1101:4472:1226 1:N:0:AACGAAGT\r\n",
      "GNAACAACATGGAGGTCAGAGGAGGAACAACATGGAGGTCAGAGGAGGAACAACATGGAGGTCAGAGGAGGAACAACATGGAGGTCAGAGAAGGCGCATCACGTATCTCAGANGAAAAGAAAGGAGGTNTGCAAAGACGAACGAGGGGGC\r\n"
     ]
    }
   ],
   "source": [
    "!head {project}raw/TORN_Pool_10_S10_L006_R1_001.fastq"
   ]
  },
  {
   "cell_type": "code",
   "execution_count": null,
   "metadata": {},
   "outputs": [],
   "source": [
    "xargs"
   ]
  },
  {
   "cell_type": "code",
   "execution_count": 25,
   "metadata": {},
   "outputs": [
    {
     "name": "stdout",
     "output_type": "stream",
     "text": [
      "0\r\n"
     ]
    }
   ],
   "source": [
    "!ls {project}raw | grep -c \"@\""
   ]
  },
  {
   "cell_type": "code",
   "execution_count": 21,
   "metadata": {},
   "outputs": [
    {
     "name": "stdout",
     "output_type": "stream",
     "text": [
      "2419885\r\n"
     ]
    }
   ],
   "source": [
    "!grep -c \"@\" {project}raw/TORN_Pool_10_S10_L008_R2_001.fastq"
   ]
  },
  {
   "cell_type": "code",
   "execution_count": 41,
   "metadata": {},
   "outputs": [
    {
     "name": "stdout",
     "output_type": "stream",
     "text": [
      "/Users/calderatta/Desktop/FISH 546 - Bioinformatics/project/raw /Users/calderatta/Desktop/FISH 546 - Bioinformatics/project/raw/TORN_Pool_10_S10_L006_R1_001.fastq /Users/calderatta/Desktop/FISH 546 - Bioinformatics/project/raw/TORN_Pool_7_S7_L006_R2_001.fastq /Users/calderatta/Desktop/FISH 546 - Bioinformatics/project/raw/TORN_Pool_6_S6_L008_R1_001.fastq /Users/calderatta/Desktop/FISH 546 - Bioinformatics/project/raw/TORN_Pool_5_S5_L006_R1_001.fastq /Users/calderatta/Desktop/FISH 546 - Bioinformatics/project/raw/TORN_Pool_9_S9_L006_R1_001.fastq /Users/calderatta/Desktop/FISH 546 - Bioinformatics/project/raw/TORN_Pool_8_S8_L008_R2_001.fastq /Users/calderatta/Desktop/FISH 546 - Bioinformatics/project/raw/TORN_Pool_4_S4_L008_R2_001.fastq /Users/calderatta/Desktop/FISH 546 - Bioinformatics/project/raw/TORN_Pool_8_S8_L006_R1_001.fastq /Users/calderatta/Desktop/FISH 546 - Bioinformatics/project/raw/TORN_Pool_4_S4_L006_R1_001.fastq /Users/calderatta/Desktop/FISH 546 - Bioinformatics/project/raw/TORN_Pool_5_S5_L008_R2_001.fastq /Users/calderatta/Desktop/FISH 546 - Bioinformatics/project/raw/TORN_Pool_9_S9_L008_R2_001.fastq /Users/calderatta/Desktop/FISH 546 - Bioinformatics/project/raw/TORN_Pool_6_S6_L006_R2_001.fastq /Users/calderatta/Desktop/FISH 546 - Bioinformatics/project/raw/TORN_Pool_7_S7_L008_R1_001.fastq /Users/calderatta/Desktop/FISH 546 - Bioinformatics/project/raw/TORN_Pool_10_S10_L008_R2_001.fastq /Users/calderatta/Desktop/FISH 546 - Bioinformatics/project/raw/TORN_Pool_5_S5_L008_R1_001.fastq /Users/calderatta/Desktop/FISH 546 - Bioinformatics/project/raw/TORN_Pool_9_S9_L008_R1_001.fastq /Users/calderatta/Desktop/FISH 546 - Bioinformatics/project/raw/TORN_Pool_8_S8_L006_R2_001.fastq /Users/calderatta/Desktop/FISH 546 - Bioinformatics/project/raw/TORN_Pool_4_S4_L006_R2_001.fastq /Users/calderatta/Desktop/FISH 546 - Bioinformatics/project/raw/TORN_Pool_7_S7_L008_R2_001.fastq /Users/calderatta/Desktop/FISH 546 - Bioinformatics/project/raw/TORN_Pool_6_S6_L006_R1_001.fastq /Users/calderatta/Desktop/FISH 546 - Bioinformatics/project/raw/TORN_Pool_10_S10_L008_R1_001.fastq /Users/calderatta/Desktop/FISH 546 - Bioinformatics/project/raw/TORN_Pool_10_S10_L006_R2_001.fastq /Users/calderatta/Desktop/FISH 546 - Bioinformatics/project/raw/TORN_Pool_6_S6_L008_R2_001.fastq /Users/calderatta/Desktop/FISH 546 - Bioinformatics/project/raw/TORN_Pool_7_S7_L006_R1_001.fastq /Users/calderatta/Desktop/FISH 546 - Bioinformatics/project/raw/TORN_Pool_8_S8_L008_R1_001.fastq /Users/calderatta/Desktop/FISH 546 - Bioinformatics/project/raw/TORN_Pool_4_S4_L008_R1_001.fastq /Users/calderatta/Desktop/FISH 546 - Bioinformatics/project/raw/TORN_Pool_5_S5_L006_R2_001.fastq /Users/calderatta/Desktop/FISH 546 - Bioinformatics/project/raw/TORN_Pool_9_S9_L006_R2_001.fastq\r\n"
     ]
    }
   ],
   "source": [
    "!find {project}raw | xargs /bin/echo"
   ]
  },
  {
   "cell_type": "markdown",
   "metadata": {},
   "source": [
    "## 1. Raw Reads from Illumina Sequencer\n",
    "This was already done."
   ]
  },
  {
   "cell_type": "markdown",
   "metadata": {},
   "source": [
    "## 2. BCL to fastq format demultiplex\n",
    "This was already done."
   ]
  },
  {
   "cell_type": "markdown",
   "metadata": {},
   "source": [
    "## 3. Remove adapter sequences and low quality score reads\n",
    "\n",
    "Download Trim-Galore v0.5.0\n",
    "\n",
    "Link: https://github.com/FelixKrueger/TrimGalore/archive/0.5.0.zip"
   ]
  },
  {
   "cell_type": "code",
   "execution_count": 27,
   "metadata": {},
   "outputs": [
    {
     "name": "stdout",
     "output_type": "stream",
     "text": [
      "  % Total    % Received % Xferd  Average Speed   Time    Time     Time  Current\n",
      "                                 Dload  Upload   Total   Spent    Left  Speed\n",
      "100   127    0   127    0     0    693      0 --:--:-- --:--:-- --:--:--   693\n"
     ]
    }
   ],
   "source": [
    "!curl -O https://github.com/FelixKrueger/TrimGalore/archive/0.5.0.zip > {project}cutadapt/TrimGalore-0.5.0.zip"
   ]
  },
  {
   "cell_type": "markdown",
   "metadata": {},
   "source": [
    "Note: For some reason this didn't work. It turned into a 127 byte .zip file (should be 25.9 MB) that when unzipped turned into a .cpgz file, which unzips back into a .zip (zip cpgz loop). We can check this using md5 or sha1, but I just tried downloading it using Safari and that seemed to work."
   ]
  },
  {
   "cell_type": "code",
   "execution_count": 19,
   "metadata": {},
   "outputs": [
    {
     "name": "stdout",
     "output_type": "stream",
     "text": [
      "Archive:  /Users/calderatta/Desktop/FISH 546 - Bioinformatics/project/cutadapt/TrimGalore-0.5.0.zip\r\n",
      "  End-of-central-directory signature not found.  Either this file is not\r\n",
      "  a zipfile, or it constitutes one disk of a multi-part archive.  In the\r\n",
      "  latter case the central directory and zipfile comment will be found on\r\n",
      "  the last disk(s) of this archive.\r\n",
      "unzip:  cannot find zipfile directory in one of /Users/calderatta/Desktop/FISH 546 - Bioinformatics/project/cutadapt/TrimGalore-0.5.0.zip or\r\n",
      "        /Users/calderatta/Desktop/FISH 546 - Bioinformatics/project/cutadapt/TrimGalore-0.5.0.zip.zip, and cannot find /Users/calderatta/Desktop/FISH 546 - Bioinformatics/project/cutadapt/TrimGalore-0.5.0.zip.ZIP, period.\r\n"
     ]
    }
   ],
   "source": [
    "!unzip {project}cutadapt/TrimGalore-0.5.0.zip -d {project}cutadapt/TrimGalore-0.5.0"
   ]
  },
  {
   "cell_type": "code",
   "execution_count": null,
   "metadata": {},
   "outputs": [],
   "source": [
    "sha1"
   ]
  }
 ],
 "metadata": {
  "kernelspec": {
   "display_name": "Python 3",
   "language": "python",
   "name": "python3"
  },
  "language_info": {
   "codemirror_mode": {
    "name": "ipython",
    "version": 3
   },
   "file_extension": ".py",
   "mimetype": "text/x-python",
   "name": "python",
   "nbconvert_exporter": "python",
   "pygments_lexer": "ipython3",
   "version": "3.7.0"
  }
 },
 "nbformat": 4,
 "nbformat_minor": 2
}
