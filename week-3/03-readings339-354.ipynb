{
 "cells": [
  {
   "cell_type": "markdown",
   "metadata": {},
   "source": [
    "# Week 3 - Bioinformatics Data Skills Notes\n",
    "## Working with Sequence Data (p339-354)"
   ]
  },
  {
   "cell_type": "markdown",
   "metadata": {},
   "source": [
    "## FASTA Format\n",
    "\n",
    "Fasta format: Each sequence entry is composed of a discription line beginning with a '>', and the sequence on the following line.\n",
    "\n",
    "eg.\n",
    "\n",
    "    >gene_00284728 length=231;type=dna\n",
    "    GAGAACTGATTCTGTTACCGCAGGGCATTCGGATGTGCTAAGGTAGTAATCCATTATAAGTAACATGCGCGGAATATCCGGAGGTCATAGTCGTAATGCATAATTATTCCCTCCCTCAGAAGGACTCCCTTGCGAGACGCCAATACCAAAGACTTTCGTAGCTGGAACGATTGGACGGCCCAACCGGGGGGAGTCGGCTATACGTCTGATTGCTACGCCTGGACTTCTCTT\n",
    "\n",
    "Subsequent sequences can be listed in the same file.\n",
    "\n",
    "Naming convention: >[identifier][space][comment]"
   ]
  },
  {
   "cell_type": "markdown",
   "metadata": {},
   "source": [
    "## FASTQ Format\n",
    "\n",
    "Fasta format:\n",
    "1. The description line, beginning with '@'. This contains the record identifier and other information.\n",
    "2. Sequence data, which can be on one or many lines.\n",
    "3. The line beginning with +, following the sequence line(s) indicates the end of the sequence.\n",
    "4. The quality data, which can also be on one or many lines, but must be the same length as the sequence. Each numeric base quality is encoded with ASCII characters.\n",
    "\n",
    "eg.\n",
    "\n",
    "    @AZ1:233:B390NACCC:2:1203:7689:2153\n",
    "    GTTGTTCTTGATGAGCCATGAGGAAGGCATGCCAAATTAAAATACTGGTGCGAATTTAAT\n",
    "    +\n",
    "    CCFFFFHHHHHJJJJJEIFJIJIJJJIJIJJJJCDGHIIIGIGIJIJIIIIJIJJIJIIH"
   ]
  },
  {
   "cell_type": "markdown",
   "metadata": {},
   "source": [
    "## Nucleotide Codes\n",
    "\n",
    "- A\n",
    "- T\n",
    "- C\n",
    "- G\n",
    "- N = A/T/C/G\n",
    "- Y = C/T\n",
    "- R = A/G\n",
    "- S = G/C\n",
    "- W = A/T\n",
    "- K = G/T\n",
    "- M = A/C\n",
    "- B = C/G/T\n",
    "- D = A/G/T\n",
    "- H = A/C/T\n",
    "- V = A/C/G"
   ]
  },
  {
   "cell_type": "markdown",
   "metadata": {},
   "source": [
    "## Base Qualities\n",
    "Quality is encoded as a string of ASCII characters, each representing and integer between 0 and 127, which can be decoded using 'qual'."
   ]
  },
  {
   "cell_type": "code",
   "execution_count": 9,
   "metadata": {},
   "outputs": [],
   "source": [
    "qual = \"JJJJGJJIHHHFDFCC\""
   ]
  },
  {
   "cell_type": "code",
   "execution_count": 7,
   "metadata": {},
   "outputs": [
    {
     "data": {
      "text/plain": [
       "[74, 74, 74, 74, 71, 74, 74, 73, 72, 72, 72, 70, 68, 70, 67, 67]"
      ]
     },
     "execution_count": 7,
     "metadata": {},
     "output_type": "execute_result"
    }
   ],
   "source": [
    "[ord(b) for b in qual]"
   ]
  },
  {
   "cell_type": "markdown",
   "metadata": {},
   "source": [
    "### Converting between quality scores\n",
    "Sanger, Illumina (versions 1.8 onward)\n",
    "\n",
    "    ASCII character range = 33–126\n",
    "    Offset = 33\n",
    "    Quality score type = PHRED\n",
    "    Quality score range = 0–93\n",
    "Solexa, early Illumina (before 1.3)\n",
    "\n",
    "    ASCII character range = 59–126\n",
    "    Offset = 64\n",
    "    Quality score type = Solexa\n",
    "    Quality score range = 5–62\n",
    "Illumina (versions 1.3–1.7)\n",
    "\n",
    "    ASCII character range = 64–126\n",
    "    Offset = 64\n",
    "    Quality score type = PHRED\n",
    "    Quality score range = 0–62\n",
    "To convert Sanger sequence to PHRED quality score..."
   ]
  },
  {
   "cell_type": "code",
   "execution_count": 10,
   "metadata": {},
   "outputs": [],
   "source": [
    "phred = [ord(b)-33 for b in qual]"
   ]
  },
  {
   "cell_type": "code",
   "execution_count": 11,
   "metadata": {},
   "outputs": [
    {
     "data": {
      "text/plain": [
       "[41, 41, 41, 41, 38, 41, 41, 40, 39, 39, 39, 37, 35, 37, 34, 34]"
      ]
     },
     "execution_count": 11,
     "metadata": {},
     "output_type": "execute_result"
    }
   ],
   "source": [
    "phred"
   ]
  },
  {
   "cell_type": "code",
   "execution_count": 12,
   "metadata": {},
   "outputs": [
    {
     "data": {
      "text/plain": [
       "[7.943282347242822e-05,\n",
       " 7.943282347242822e-05,\n",
       " 7.943282347242822e-05,\n",
       " 7.943282347242822e-05,\n",
       " 0.00015848931924611142,\n",
       " 7.943282347242822e-05,\n",
       " 7.943282347242822e-05,\n",
       " 0.0001,\n",
       " 0.00012589254117941674,\n",
       " 0.00012589254117941674,\n",
       " 0.00012589254117941674,\n",
       " 0.00019952623149688788,\n",
       " 0.00031622776601683794,\n",
       " 0.00019952623149688788,\n",
       " 0.00039810717055349735,\n",
       " 0.00039810717055349735]"
      ]
     },
     "execution_count": 12,
     "metadata": {},
     "output_type": "execute_result"
    }
   ],
   "source": [
    "[10**(-q/10) for q in phred]"
   ]
  },
  {
   "cell_type": "code",
   "execution_count": 17,
   "metadata": {},
   "outputs": [
    {
     "name": "stdout",
     "output_type": "stream",
     "text": [
      "****Error: Could not open input file 'untreated1_chr4.fq'.\r\n",
      "\r\n"
     ]
    }
   ],
   "source": [
    "!sickle se -f untreated1_chr4.fq -t sanger -o untreated1_chr4_sickle.fq"
   ]
  },
  {
   "cell_type": "markdown",
   "metadata": {},
   "source": [
    "Both sickle and seqtk are used to trim low-quality bases\n",
    "\n",
    "sickle\n",
    "\n",
    "    -f = input file\n",
    "    -t = quality type\n",
    "    -o = output\n",
    "seqtk trimfq"
   ]
  },
  {
   "cell_type": "markdown",
   "metadata": {},
   "source": [
    "samtools for indexing FASTA files"
   ]
  },
  {
   "cell_type": "code",
   "execution_count": null,
   "metadata": {},
   "outputs": [],
   "source": []
  }
 ],
 "metadata": {
  "kernelspec": {
   "display_name": "Python 3",
   "language": "python",
   "name": "python3"
  },
  "language_info": {
   "codemirror_mode": {
    "name": "ipython",
    "version": 3
   },
   "file_extension": ".py",
   "mimetype": "text/x-python",
   "name": "python",
   "nbconvert_exporter": "python",
   "pygments_lexer": "ipython3",
   "version": "3.7.0"
  }
 },
 "nbformat": 4,
 "nbformat_minor": 2
}
